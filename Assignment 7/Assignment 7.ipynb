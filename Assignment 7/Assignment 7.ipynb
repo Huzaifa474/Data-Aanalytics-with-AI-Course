{
 "cells": [
  {
   "cell_type": "code",
   "execution_count": 1,
   "id": "fd267c93-ddde-45ef-9d5b-eedf06e2a366",
   "metadata": {},
   "outputs": [],
   "source": [
    "import pandas as pd"
   ]
  },
  {
   "cell_type": "markdown",
   "id": "9e555428-ce06-45a6-913e-358d86fc9bed",
   "metadata": {},
   "source": [
    "## READING DATA"
   ]
  },
  {
   "cell_type": "code",
   "execution_count": 2,
   "id": "6f9a0ab5-5184-4414-900d-a70bd2459aa9",
   "metadata": {},
   "outputs": [
    {
     "data": {
      "text/html": [
       "<div>\n",
       "<style scoped>\n",
       "    .dataframe tbody tr th:only-of-type {\n",
       "        vertical-align: middle;\n",
       "    }\n",
       "\n",
       "    .dataframe tbody tr th {\n",
       "        vertical-align: top;\n",
       "    }\n",
       "\n",
       "    .dataframe thead th {\n",
       "        text-align: right;\n",
       "    }\n",
       "</style>\n",
       "<table border=\"1\" class=\"dataframe\">\n",
       "  <thead>\n",
       "    <tr style=\"text-align: right;\">\n",
       "      <th></th>\n",
       "      <th>experience_coding</th>\n",
       "      <th>python_user</th>\n",
       "      <th>r_user</th>\n",
       "      <th>sql_user</th>\n",
       "      <th>most_used</th>\n",
       "      <th>compensation</th>\n",
       "    </tr>\n",
       "  </thead>\n",
       "  <tbody>\n",
       "    <tr>\n",
       "      <th>0</th>\n",
       "      <td>6.1</td>\n",
       "      <td>True</td>\n",
       "      <td>False</td>\n",
       "      <td>True</td>\n",
       "      <td>Scikit-learn</td>\n",
       "      <td>124267</td>\n",
       "    </tr>\n",
       "    <tr>\n",
       "      <th>1</th>\n",
       "      <td>12.3</td>\n",
       "      <td>True</td>\n",
       "      <td>True</td>\n",
       "      <td>True</td>\n",
       "      <td>Scikit-learn</td>\n",
       "      <td>236889</td>\n",
       "    </tr>\n",
       "    <tr>\n",
       "      <th>2</th>\n",
       "      <td>2.2</td>\n",
       "      <td>True</td>\n",
       "      <td>False</td>\n",
       "      <td>False</td>\n",
       "      <td>NaN</td>\n",
       "      <td>74321</td>\n",
       "    </tr>\n",
       "    <tr>\n",
       "      <th>3</th>\n",
       "      <td>2.7</td>\n",
       "      <td>False</td>\n",
       "      <td>False</td>\n",
       "      <td>True</td>\n",
       "      <td>NaN</td>\n",
       "      <td>62593</td>\n",
       "    </tr>\n",
       "    <tr>\n",
       "      <th>4</th>\n",
       "      <td>1.2</td>\n",
       "      <td>True</td>\n",
       "      <td>False</td>\n",
       "      <td>False</td>\n",
       "      <td>Scikit-learn</td>\n",
       "      <td>36288</td>\n",
       "    </tr>\n",
       "    <tr>\n",
       "      <th>...</th>\n",
       "      <td>...</td>\n",
       "      <td>...</td>\n",
       "      <td>...</td>\n",
       "      <td>...</td>\n",
       "      <td>...</td>\n",
       "      <td>...</td>\n",
       "    </tr>\n",
       "    <tr>\n",
       "      <th>25968</th>\n",
       "      <td>1.9</td>\n",
       "      <td>True</td>\n",
       "      <td>False</td>\n",
       "      <td>True</td>\n",
       "      <td>Scikit-learn</td>\n",
       "      <td>15800</td>\n",
       "    </tr>\n",
       "    <tr>\n",
       "      <th>25969</th>\n",
       "      <td>1.4</td>\n",
       "      <td>True</td>\n",
       "      <td>False</td>\n",
       "      <td>False</td>\n",
       "      <td>PyTorch</td>\n",
       "      <td>62456</td>\n",
       "    </tr>\n",
       "    <tr>\n",
       "      <th>25970</th>\n",
       "      <td>0.0</td>\n",
       "      <td>False</td>\n",
       "      <td>False</td>\n",
       "      <td>False</td>\n",
       "      <td>NaN</td>\n",
       "      <td>923</td>\n",
       "    </tr>\n",
       "    <tr>\n",
       "      <th>25971</th>\n",
       "      <td>9.4</td>\n",
       "      <td>True</td>\n",
       "      <td>False</td>\n",
       "      <td>True</td>\n",
       "      <td>Scikit-learn</td>\n",
       "      <td>60609</td>\n",
       "    </tr>\n",
       "    <tr>\n",
       "      <th>25972</th>\n",
       "      <td>0.0</td>\n",
       "      <td>False</td>\n",
       "      <td>False</td>\n",
       "      <td>False</td>\n",
       "      <td>NaN</td>\n",
       "      <td>493</td>\n",
       "    </tr>\n",
       "  </tbody>\n",
       "</table>\n",
       "<p>25973 rows × 6 columns</p>\n",
       "</div>"
      ],
      "text/plain": [
       "       experience_coding  python_user  r_user  sql_user     most_used  \\\n",
       "0                    6.1         True   False      True  Scikit-learn   \n",
       "1                   12.3         True    True      True  Scikit-learn   \n",
       "2                    2.2         True   False     False           NaN   \n",
       "3                    2.7        False   False      True           NaN   \n",
       "4                    1.2         True   False     False  Scikit-learn   \n",
       "...                  ...          ...     ...       ...           ...   \n",
       "25968                1.9         True   False      True  Scikit-learn   \n",
       "25969                1.4         True   False     False       PyTorch   \n",
       "25970                0.0        False   False     False           NaN   \n",
       "25971                9.4         True   False      True  Scikit-learn   \n",
       "25972                0.0        False   False     False           NaN   \n",
       "\n",
       "       compensation  \n",
       "0            124267  \n",
       "1            236889  \n",
       "2             74321  \n",
       "3             62593  \n",
       "4             36288  \n",
       "...             ...  \n",
       "25968         15800  \n",
       "25969         62456  \n",
       "25970           923  \n",
       "25971         60609  \n",
       "25972           493  \n",
       "\n",
       "[25973 rows x 6 columns]"
      ]
     },
     "execution_count": 2,
     "metadata": {},
     "output_type": "execute_result"
    }
   ],
   "source": [
    "df=pd.read_csv(\"compensation data.csv\")\n",
    "df"
   ]
  },
  {
   "cell_type": "code",
   "execution_count": 3,
   "id": "e9660046-d096-45b0-b213-522556be0416",
   "metadata": {},
   "outputs": [
    {
     "data": {
      "text/plain": [
       "experience_coding    float64\n",
       "python_user             bool\n",
       "r_user                  bool\n",
       "sql_user                bool\n",
       "most_used             object\n",
       "compensation           int64\n",
       "dtype: object"
      ]
     },
     "execution_count": 3,
     "metadata": {},
     "output_type": "execute_result"
    }
   ],
   "source": [
    "df.dtypes"
   ]
  },
  {
   "cell_type": "markdown",
   "id": "e056c395-d417-4e2d-ba4f-205a17b18040",
   "metadata": {},
   "source": [
    "## REMOVING MISSING VALUES"
   ]
  },
  {
   "cell_type": "code",
   "execution_count": 4,
   "id": "266d1afc-3548-4093-8a4e-d609cc010882",
   "metadata": {},
   "outputs": [
    {
     "data": {
      "text/html": [
       "<div>\n",
       "<style scoped>\n",
       "    .dataframe tbody tr th:only-of-type {\n",
       "        vertical-align: middle;\n",
       "    }\n",
       "\n",
       "    .dataframe tbody tr th {\n",
       "        vertical-align: top;\n",
       "    }\n",
       "\n",
       "    .dataframe thead th {\n",
       "        text-align: right;\n",
       "    }\n",
       "</style>\n",
       "<table border=\"1\" class=\"dataframe\">\n",
       "  <thead>\n",
       "    <tr style=\"text-align: right;\">\n",
       "      <th></th>\n",
       "      <th>experience_coding</th>\n",
       "      <th>python_user</th>\n",
       "      <th>r_user</th>\n",
       "      <th>sql_user</th>\n",
       "      <th>most_used</th>\n",
       "      <th>compensation</th>\n",
       "    </tr>\n",
       "  </thead>\n",
       "  <tbody>\n",
       "    <tr>\n",
       "      <th>0</th>\n",
       "      <td>6.1</td>\n",
       "      <td>True</td>\n",
       "      <td>False</td>\n",
       "      <td>True</td>\n",
       "      <td>Scikit-learn</td>\n",
       "      <td>124267</td>\n",
       "    </tr>\n",
       "    <tr>\n",
       "      <th>1</th>\n",
       "      <td>12.3</td>\n",
       "      <td>True</td>\n",
       "      <td>True</td>\n",
       "      <td>True</td>\n",
       "      <td>Scikit-learn</td>\n",
       "      <td>236889</td>\n",
       "    </tr>\n",
       "    <tr>\n",
       "      <th>2</th>\n",
       "      <td>2.2</td>\n",
       "      <td>True</td>\n",
       "      <td>False</td>\n",
       "      <td>False</td>\n",
       "      <td>Unknown</td>\n",
       "      <td>74321</td>\n",
       "    </tr>\n",
       "    <tr>\n",
       "      <th>3</th>\n",
       "      <td>2.7</td>\n",
       "      <td>False</td>\n",
       "      <td>False</td>\n",
       "      <td>True</td>\n",
       "      <td>Unknown</td>\n",
       "      <td>62593</td>\n",
       "    </tr>\n",
       "    <tr>\n",
       "      <th>4</th>\n",
       "      <td>1.2</td>\n",
       "      <td>True</td>\n",
       "      <td>False</td>\n",
       "      <td>False</td>\n",
       "      <td>Scikit-learn</td>\n",
       "      <td>36288</td>\n",
       "    </tr>\n",
       "    <tr>\n",
       "      <th>...</th>\n",
       "      <td>...</td>\n",
       "      <td>...</td>\n",
       "      <td>...</td>\n",
       "      <td>...</td>\n",
       "      <td>...</td>\n",
       "      <td>...</td>\n",
       "    </tr>\n",
       "    <tr>\n",
       "      <th>25968</th>\n",
       "      <td>1.9</td>\n",
       "      <td>True</td>\n",
       "      <td>False</td>\n",
       "      <td>True</td>\n",
       "      <td>Scikit-learn</td>\n",
       "      <td>15800</td>\n",
       "    </tr>\n",
       "    <tr>\n",
       "      <th>25969</th>\n",
       "      <td>1.4</td>\n",
       "      <td>True</td>\n",
       "      <td>False</td>\n",
       "      <td>False</td>\n",
       "      <td>PyTorch</td>\n",
       "      <td>62456</td>\n",
       "    </tr>\n",
       "    <tr>\n",
       "      <th>25970</th>\n",
       "      <td>0.0</td>\n",
       "      <td>False</td>\n",
       "      <td>False</td>\n",
       "      <td>False</td>\n",
       "      <td>Unknown</td>\n",
       "      <td>923</td>\n",
       "    </tr>\n",
       "    <tr>\n",
       "      <th>25971</th>\n",
       "      <td>9.4</td>\n",
       "      <td>True</td>\n",
       "      <td>False</td>\n",
       "      <td>True</td>\n",
       "      <td>Scikit-learn</td>\n",
       "      <td>60609</td>\n",
       "    </tr>\n",
       "    <tr>\n",
       "      <th>25972</th>\n",
       "      <td>0.0</td>\n",
       "      <td>False</td>\n",
       "      <td>False</td>\n",
       "      <td>False</td>\n",
       "      <td>Unknown</td>\n",
       "      <td>493</td>\n",
       "    </tr>\n",
       "  </tbody>\n",
       "</table>\n",
       "<p>25973 rows × 6 columns</p>\n",
       "</div>"
      ],
      "text/plain": [
       "       experience_coding  python_user  r_user  sql_user     most_used  \\\n",
       "0                    6.1         True   False      True  Scikit-learn   \n",
       "1                   12.3         True    True      True  Scikit-learn   \n",
       "2                    2.2         True   False     False       Unknown   \n",
       "3                    2.7        False   False      True       Unknown   \n",
       "4                    1.2         True   False     False  Scikit-learn   \n",
       "...                  ...          ...     ...       ...           ...   \n",
       "25968                1.9         True   False      True  Scikit-learn   \n",
       "25969                1.4         True   False     False       PyTorch   \n",
       "25970                0.0        False   False     False       Unknown   \n",
       "25971                9.4         True   False      True  Scikit-learn   \n",
       "25972                0.0        False   False     False       Unknown   \n",
       "\n",
       "       compensation  \n",
       "0            124267  \n",
       "1            236889  \n",
       "2             74321  \n",
       "3             62593  \n",
       "4             36288  \n",
       "...             ...  \n",
       "25968         15800  \n",
       "25969         62456  \n",
       "25970           923  \n",
       "25971         60609  \n",
       "25972           493  \n",
       "\n",
       "[25973 rows x 6 columns]"
      ]
     },
     "execution_count": 4,
     "metadata": {},
     "output_type": "execute_result"
    }
   ],
   "source": [
    "df[\"most_used\"].fillna('Unknown',inplace=True)\n",
    "df"
   ]
  },
  {
   "cell_type": "markdown",
   "id": "4f8ea957-33fa-48bb-a30d-c57a9871e7d0",
   "metadata": {},
   "source": [
    "## PYTHON USERS"
   ]
  },
  {
   "cell_type": "code",
   "execution_count": 5,
   "id": "22737857-3ef2-4950-8630-f44e2b5a9af8",
   "metadata": {},
   "outputs": [
    {
     "data": {
      "text/plain": [
       "python_user    21860\n",
       "dtype: int64"
      ]
     },
     "execution_count": 5,
     "metadata": {},
     "output_type": "execute_result"
    }
   ],
   "source": [
    "python_users=df[[\"python_user\"]]\n",
    "python_users[python_users[\"python_user\"]==True].count()"
   ]
  },
  {
   "cell_type": "markdown",
   "id": "c20b1416-bf1b-4d13-9713-50dd4505dfaa",
   "metadata": {},
   "source": [
    "## R USERS"
   ]
  },
  {
   "cell_type": "code",
   "execution_count": 6,
   "id": "6d1e8e43-dea9-4c5f-9e71-3c513a645e37",
   "metadata": {},
   "outputs": [
    {
     "data": {
      "text/plain": [
       "r_user    5335\n",
       "dtype: int64"
      ]
     },
     "execution_count": 6,
     "metadata": {},
     "output_type": "execute_result"
    }
   ],
   "source": [
    "R_users=df[[\"r_user\"]]\n",
    "R_users[R_users[\"r_user\"]==True].count()"
   ]
  },
  {
   "cell_type": "markdown",
   "id": "fe6850cc-e72d-42c0-ab47-09658f13cf2a",
   "metadata": {},
   "source": [
    "## SQL USERS"
   ]
  },
  {
   "cell_type": "code",
   "execution_count": 7,
   "id": "710eb69d-9c1b-432c-bc55-cb2abf664c3e",
   "metadata": {},
   "outputs": [
    {
     "data": {
      "text/plain": [
       "sql_user    10757\n",
       "dtype: int64"
      ]
     },
     "execution_count": 7,
     "metadata": {},
     "output_type": "execute_result"
    }
   ],
   "source": [
    "SQL_users=df[[\"sql_user\"]]\n",
    "SQL_users[SQL_users[\"sql_user\"]==True].count()"
   ]
  },
  {
   "cell_type": "markdown",
   "id": "ab04d2be-f650-4b89-9120-0b9c1b424eba",
   "metadata": {},
   "source": [
    "## AVERAGE COMPENSATION"
   ]
  },
  {
   "cell_type": "code",
   "execution_count": 8,
   "id": "ad04b11e-79f8-43c3-afe2-175ca2cca436",
   "metadata": {},
   "outputs": [
    {
     "data": {
      "text/plain": [
       "53252.82"
      ]
     },
     "execution_count": 8,
     "metadata": {},
     "output_type": "execute_result"
    }
   ],
   "source": [
    "Avg=df[\"compensation\"].mean()\n",
    "round(Avg,2)"
   ]
  },
  {
   "cell_type": "markdown",
   "id": "f58fe522-182a-42ee-8365-20fca84f7ee7",
   "metadata": {},
   "source": [
    "## AVERGAE EXPERIENCE"
   ]
  },
  {
   "cell_type": "code",
   "execution_count": 9,
   "id": "ff75eb95-57b4-4a2a-b8ec-25c1f5308f28",
   "metadata": {},
   "outputs": [
    {
     "data": {
      "text/plain": [
       "5.3"
      ]
     },
     "execution_count": 9,
     "metadata": {},
     "output_type": "execute_result"
    }
   ],
   "source": [
    "Avg_Coding=df[\"experience_coding\"].mean()\n",
    "round(Avg_Coding,2)"
   ]
  },
  {
   "cell_type": "markdown",
   "id": "f9bd7093-381e-4031-9d1d-a8d2914d12e8",
   "metadata": {},
   "source": [
    "## ADDING CATAGORY COLUMN"
   ]
  },
  {
   "cell_type": "code",
   "execution_count": 10,
   "id": "1388aee6-2abe-43ef-a2e5-15c701401e77",
   "metadata": {},
   "outputs": [],
   "source": [
    "df[\"Catagory\"]=None\n",
    "df.loc[df[\"experience_coding\"]<5,\"Catagory\"]='< Than 5'\n",
    "df.loc[(df[\"experience_coding\"]<10) & (df[\"experience_coding\"]>=5),\"Catagory\"]='< Than 10'\n",
    "df.loc[(df[\"experience_coding\"]<15) & (df[\"experience_coding\"]>=10) ,\"Catagory\"]='< Than 15'\n",
    "df.loc[(df[\"experience_coding\"]<20) & (df[\"experience_coding\"]>=15) ,\"Catagory\"]='< Than 20'\n",
    "df.loc[(df[\"experience_coding\"]<25) & (df[\"experience_coding\"]>=20) ,\"Catagory\"]='< Than 25'\n",
    "df.loc[(df[\"experience_coding\"]>25)  ,\"Catagory\"]='25 Years +'"
   ]
  },
  {
   "cell_type": "code",
   "execution_count": 11,
   "id": "237a04ac-4b01-4c2a-832a-3e447dabf0fe",
   "metadata": {},
   "outputs": [
    {
     "data": {
      "text/html": [
       "<div>\n",
       "<style scoped>\n",
       "    .dataframe tbody tr th:only-of-type {\n",
       "        vertical-align: middle;\n",
       "    }\n",
       "\n",
       "    .dataframe tbody tr th {\n",
       "        vertical-align: top;\n",
       "    }\n",
       "\n",
       "    .dataframe thead th {\n",
       "        text-align: right;\n",
       "    }\n",
       "</style>\n",
       "<table border=\"1\" class=\"dataframe\">\n",
       "  <thead>\n",
       "    <tr style=\"text-align: right;\">\n",
       "      <th></th>\n",
       "      <th>experience_coding</th>\n",
       "      <th>python_user</th>\n",
       "      <th>r_user</th>\n",
       "      <th>sql_user</th>\n",
       "      <th>most_used</th>\n",
       "      <th>compensation</th>\n",
       "      <th>Catagory</th>\n",
       "    </tr>\n",
       "  </thead>\n",
       "  <tbody>\n",
       "    <tr>\n",
       "      <th>0</th>\n",
       "      <td>6.1</td>\n",
       "      <td>True</td>\n",
       "      <td>False</td>\n",
       "      <td>True</td>\n",
       "      <td>Scikit-learn</td>\n",
       "      <td>124267</td>\n",
       "      <td>&lt; Than 10</td>\n",
       "    </tr>\n",
       "    <tr>\n",
       "      <th>1</th>\n",
       "      <td>12.3</td>\n",
       "      <td>True</td>\n",
       "      <td>True</td>\n",
       "      <td>True</td>\n",
       "      <td>Scikit-learn</td>\n",
       "      <td>236889</td>\n",
       "      <td>&lt; Than 15</td>\n",
       "    </tr>\n",
       "    <tr>\n",
       "      <th>2</th>\n",
       "      <td>2.2</td>\n",
       "      <td>True</td>\n",
       "      <td>False</td>\n",
       "      <td>False</td>\n",
       "      <td>Unknown</td>\n",
       "      <td>74321</td>\n",
       "      <td>&lt; Than 5</td>\n",
       "    </tr>\n",
       "    <tr>\n",
       "      <th>3</th>\n",
       "      <td>2.7</td>\n",
       "      <td>False</td>\n",
       "      <td>False</td>\n",
       "      <td>True</td>\n",
       "      <td>Unknown</td>\n",
       "      <td>62593</td>\n",
       "      <td>&lt; Than 5</td>\n",
       "    </tr>\n",
       "    <tr>\n",
       "      <th>4</th>\n",
       "      <td>1.2</td>\n",
       "      <td>True</td>\n",
       "      <td>False</td>\n",
       "      <td>False</td>\n",
       "      <td>Scikit-learn</td>\n",
       "      <td>36288</td>\n",
       "      <td>&lt; Than 5</td>\n",
       "    </tr>\n",
       "    <tr>\n",
       "      <th>...</th>\n",
       "      <td>...</td>\n",
       "      <td>...</td>\n",
       "      <td>...</td>\n",
       "      <td>...</td>\n",
       "      <td>...</td>\n",
       "      <td>...</td>\n",
       "      <td>...</td>\n",
       "    </tr>\n",
       "    <tr>\n",
       "      <th>25968</th>\n",
       "      <td>1.9</td>\n",
       "      <td>True</td>\n",
       "      <td>False</td>\n",
       "      <td>True</td>\n",
       "      <td>Scikit-learn</td>\n",
       "      <td>15800</td>\n",
       "      <td>&lt; Than 5</td>\n",
       "    </tr>\n",
       "    <tr>\n",
       "      <th>25969</th>\n",
       "      <td>1.4</td>\n",
       "      <td>True</td>\n",
       "      <td>False</td>\n",
       "      <td>False</td>\n",
       "      <td>PyTorch</td>\n",
       "      <td>62456</td>\n",
       "      <td>&lt; Than 5</td>\n",
       "    </tr>\n",
       "    <tr>\n",
       "      <th>25970</th>\n",
       "      <td>0.0</td>\n",
       "      <td>False</td>\n",
       "      <td>False</td>\n",
       "      <td>False</td>\n",
       "      <td>Unknown</td>\n",
       "      <td>923</td>\n",
       "      <td>&lt; Than 5</td>\n",
       "    </tr>\n",
       "    <tr>\n",
       "      <th>25971</th>\n",
       "      <td>9.4</td>\n",
       "      <td>True</td>\n",
       "      <td>False</td>\n",
       "      <td>True</td>\n",
       "      <td>Scikit-learn</td>\n",
       "      <td>60609</td>\n",
       "      <td>&lt; Than 10</td>\n",
       "    </tr>\n",
       "    <tr>\n",
       "      <th>25972</th>\n",
       "      <td>0.0</td>\n",
       "      <td>False</td>\n",
       "      <td>False</td>\n",
       "      <td>False</td>\n",
       "      <td>Unknown</td>\n",
       "      <td>493</td>\n",
       "      <td>&lt; Than 5</td>\n",
       "    </tr>\n",
       "  </tbody>\n",
       "</table>\n",
       "<p>25973 rows × 7 columns</p>\n",
       "</div>"
      ],
      "text/plain": [
       "       experience_coding  python_user  r_user  sql_user     most_used  \\\n",
       "0                    6.1         True   False      True  Scikit-learn   \n",
       "1                   12.3         True    True      True  Scikit-learn   \n",
       "2                    2.2         True   False     False       Unknown   \n",
       "3                    2.7        False   False      True       Unknown   \n",
       "4                    1.2         True   False     False  Scikit-learn   \n",
       "...                  ...          ...     ...       ...           ...   \n",
       "25968                1.9         True   False      True  Scikit-learn   \n",
       "25969                1.4         True   False     False       PyTorch   \n",
       "25970                0.0        False   False     False       Unknown   \n",
       "25971                9.4         True   False      True  Scikit-learn   \n",
       "25972                0.0        False   False     False       Unknown   \n",
       "\n",
       "       compensation   Catagory  \n",
       "0            124267  < Than 10  \n",
       "1            236889  < Than 15  \n",
       "2             74321   < Than 5  \n",
       "3             62593   < Than 5  \n",
       "4             36288   < Than 5  \n",
       "...             ...        ...  \n",
       "25968         15800   < Than 5  \n",
       "25969         62456   < Than 5  \n",
       "25970           923   < Than 5  \n",
       "25971         60609  < Than 10  \n",
       "25972           493   < Than 5  \n",
       "\n",
       "[25973 rows x 7 columns]"
      ]
     },
     "execution_count": 11,
     "metadata": {},
     "output_type": "execute_result"
    }
   ],
   "source": [
    "df"
   ]
  },
  {
   "cell_type": "markdown",
   "id": "1a8b4ecc-0d40-49e4-b2a2-6712aaf7e30b",
   "metadata": {},
   "source": [
    "## WRITING INTO FILE"
   ]
  },
  {
   "cell_type": "code",
   "execution_count": 12,
   "id": "f52eb915-7b78-4e4e-a020-3ce35c141fe2",
   "metadata": {},
   "outputs": [],
   "source": [
    "df.to_csv(\"Updated_Datafile.csv\",index=False)"
   ]
  },
  {
   "cell_type": "code",
   "execution_count": null,
   "id": "2134976a-ebd2-47ef-917d-af90dbffdc77",
   "metadata": {},
   "outputs": [],
   "source": []
  }
 ],
 "metadata": {
  "kernelspec": {
   "display_name": "Python 3 (ipykernel)",
   "language": "python",
   "name": "python3"
  },
  "language_info": {
   "codemirror_mode": {
    "name": "ipython",
    "version": 3
   },
   "file_extension": ".py",
   "mimetype": "text/x-python",
   "name": "python",
   "nbconvert_exporter": "python",
   "pygments_lexer": "ipython3",
   "version": "3.11.7"
  }
 },
 "nbformat": 4,
 "nbformat_minor": 5
}
