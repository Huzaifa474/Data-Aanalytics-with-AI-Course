{
 "cells": [
  {
   "cell_type": "markdown",
   "id": "e78bf1ac-0abe-42f2-964b-4e320fe1012c",
   "metadata": {},
   "source": [
    "# Assignment No 1"
   ]
  },
  {
   "cell_type": "code",
   "execution_count": 1,
   "id": "226eeb32-3872-4126-a89d-46b3f0e72f64",
   "metadata": {},
   "outputs": [],
   "source": [
    "#Creating List\n",
    "salaries = ['20k', '40k', '50k', '60k', '35k', '89k','40k']"
   ]
  },
  {
   "cell_type": "code",
   "execution_count": 3,
   "id": "750fc79b-69fa-4bd0-b402-04c59dea0286",
   "metadata": {},
   "outputs": [
    {
     "name": "stdout",
     "output_type": "stream",
     "text": [
      "Length of Salaries List: 7\n"
     ]
    }
   ],
   "source": [
    "# 1. What is the length of the salaries list.\n",
    "print(\"Length of Salaries List:\",len(salaries))"
   ]
  },
  {
   "cell_type": "code",
   "execution_count": 5,
   "id": "3467800e-448d-4f96-9ccb-e3a1ff840884",
   "metadata": {},
   "outputs": [
    {
     "name": "stdout",
     "output_type": "stream",
     "text": [
      "50k\n"
     ]
    }
   ],
   "source": [
    "# 2. Retrieve the third salary in the list by using index.\n",
    "print(salaries[2]) "
   ]
  },
  {
   "cell_type": "code",
   "execution_count": 6,
   "id": "12906909-c240-4634-a448-b3b562578759",
   "metadata": {},
   "outputs": [
    {
     "name": "stdout",
     "output_type": "stream",
     "text": [
      "40k\n"
     ]
    }
   ],
   "source": [
    "# 3. Extract the last salary from the list by using a negative index.\n",
    "print(salaries[-1])"
   ]
  },
  {
   "cell_type": "code",
   "execution_count": 7,
   "id": "1167664b-20c4-47cc-ac94-79b88c00bd4d",
   "metadata": {},
   "outputs": [
    {
     "name": "stdout",
     "output_type": "stream",
     "text": [
      "['50k', '60k', '35k']\n"
     ]
    }
   ],
   "source": [
    "# 4. Slice the salaries list to get only the middle three salaries.\n",
    "print(salaries[2:5])"
   ]
  },
  {
   "cell_type": "code",
   "execution_count": 8,
   "id": "5d3678be-3933-42ef-9ea6-68b678ef0750",
   "metadata": {},
   "outputs": [
    {
     "name": "stdout",
     "output_type": "stream",
     "text": [
      "['20k', '40k', '50k', '60k', '35k', '89k', '40k', '100k']\n"
     ]
    }
   ],
   "source": [
    "# 5. Add a new salary to the list, ‘100k’ by using append() method.\n",
    "salaries.append(\"100k\")\n",
    "print(salaries)"
   ]
  },
  {
   "cell_type": "code",
   "execution_count": 9,
   "id": "9639c34e-1e42-4ef3-8f30-d1d75f1052c6",
   "metadata": {},
   "outputs": [
    {
     "name": "stdout",
     "output_type": "stream",
     "text": [
      "['20k', '40k', '50k', '60k', '35k', '89k', '40k', '100k', '120k']\n"
     ]
    }
   ],
   "source": [
    "# 5. Add a new salary to the list, ‘120k’ without method.\n",
    "salaries=salaries+[\"120k\"]\n",
    "print(salaries)"
   ]
  },
  {
   "cell_type": "code",
   "execution_count": 10,
   "id": "1ac169c3-32c7-4b53-b04a-24de49c2a6dd",
   "metadata": {},
   "outputs": [
    {
     "name": "stdout",
     "output_type": "stream",
     "text": [
      "['20k', '40k', '55k', '60k', '35k', '89k', '40k', '100k', '120k']\n"
     ]
    }
   ],
   "source": [
    "# 6. Replace the third salary in the list with '55k' and print the updated list.\n",
    "salaries[2]=\"55k\"\n",
    "print(salaries)"
   ]
  },
  {
   "cell_type": "code",
   "execution_count": 11,
   "id": "484c0da1-a219-41fe-a4cf-04506a0ac723",
   "metadata": {},
   "outputs": [
    {
     "name": "stdout",
     "output_type": "stream",
     "text": [
      "2\n"
     ]
    }
   ],
   "source": [
    "# 7. Count how many times '40k' appears in the list.\n",
    "print(salaries.count(\"40k\"))"
   ]
  },
  {
   "cell_type": "code",
   "execution_count": 14,
   "id": "38a7084d-538f-432d-80a5-f1307518f611",
   "metadata": {},
   "outputs": [
    {
     "name": "stdout",
     "output_type": "stream",
     "text": [
      "['20k', '75k', '40k', '55k', '60k', '35k', '89k', '40k', '100k', '120k']\n"
     ]
    }
   ],
   "source": [
    "# 8. Insert a new salary at the second position.\n",
    "salaries.insert(1,\"75k\") #Adding New Salary '75k'\n",
    "print(salaries)"
   ]
  },
  {
   "cell_type": "code",
   "execution_count": 17,
   "id": "b6925b39-8171-45f2-b80b-ee740c6a238b",
   "metadata": {},
   "outputs": [
    {
     "name": "stdout",
     "output_type": "stream",
     "text": [
      "['120k', '100k', '40k', '89k', '35k', '60k', '55k', '40k', '75k', '20k']\n"
     ]
    }
   ],
   "source": [
    "# 9. reverse the order of the salaries list with method.\n",
    "salaries.reverse()\n",
    "print(salaries)"
   ]
  },
  {
   "cell_type": "code",
   "execution_count": 23,
   "id": "729a7134-29cb-4be9-8c77-93f273b5988e",
   "metadata": {},
   "outputs": [
    {
     "name": "stdout",
     "output_type": "stream",
     "text": [
      "['20k', '75k', '40k', '55k', '60k', '35k', '89k', '40k', '100k', '120k']\n"
     ]
    }
   ],
   "source": [
    "# 10. Reverse the order of the salaries list without method.\n",
    "print(salaries[::-1])"
   ]
  },
  {
   "cell_type": "code",
   "execution_count": null,
   "id": "328075f7-d479-4974-a7c7-d69ce89e99dc",
   "metadata": {},
   "outputs": [],
   "source": []
  }
 ],
 "metadata": {
  "kernelspec": {
   "display_name": "Python 3 (ipykernel)",
   "language": "python",
   "name": "python3"
  },
  "language_info": {
   "codemirror_mode": {
    "name": "ipython",
    "version": 3
   },
   "file_extension": ".py",
   "mimetype": "text/x-python",
   "name": "python",
   "nbconvert_exporter": "python",
   "pygments_lexer": "ipython3",
   "version": "3.11.7"
  }
 },
 "nbformat": 4,
 "nbformat_minor": 5
}
