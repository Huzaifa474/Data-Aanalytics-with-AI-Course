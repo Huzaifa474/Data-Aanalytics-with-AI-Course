{
 "cells": [
  {
   "cell_type": "code",
   "execution_count": 81,
   "id": "592e4c15",
   "metadata": {},
   "outputs": [],
   "source": [
    "import pandas as pd\n",
    "import numpy as np\n",
    "import seaborn as sns\n",
    "import matplotlib.pyplot as plt"
   ]
  },
  {
   "cell_type": "markdown",
   "id": "ca53b2fa",
   "metadata": {},
   "source": [
    "### LOADING DATA SET"
   ]
  },
  {
   "cell_type": "code",
   "execution_count": 82,
   "id": "5504e884",
   "metadata": {},
   "outputs": [],
   "source": [
    "df=pd.read_csv(\"Different_stores_dataset (1).csv\")"
   ]
  },
  {
   "cell_type": "code",
   "execution_count": 83,
   "id": "2919ad57",
   "metadata": {},
   "outputs": [
    {
     "data": {
      "text/html": [
       "<div>\n",
       "<style scoped>\n",
       "    .dataframe tbody tr th:only-of-type {\n",
       "        vertical-align: middle;\n",
       "    }\n",
       "\n",
       "    .dataframe tbody tr th {\n",
       "        vertical-align: top;\n",
       "    }\n",
       "\n",
       "    .dataframe thead th {\n",
       "        text-align: right;\n",
       "    }\n",
       "</style>\n",
       "<table border=\"1\" class=\"dataframe\">\n",
       "  <thead>\n",
       "    <tr style=\"text-align: right;\">\n",
       "      <th></th>\n",
       "      <th>invoice_no</th>\n",
       "      <th>invoice_date</th>\n",
       "      <th>customer_id</th>\n",
       "      <th>gender</th>\n",
       "      <th>age</th>\n",
       "      <th>category</th>\n",
       "      <th>quantity</th>\n",
       "      <th>selling_price_per_unit</th>\n",
       "      <th>cost_price_per_unit</th>\n",
       "      <th>payment_method</th>\n",
       "      <th>region</th>\n",
       "      <th>state</th>\n",
       "      <th>shopping_mall</th>\n",
       "    </tr>\n",
       "  </thead>\n",
       "  <tbody>\n",
       "    <tr>\n",
       "      <th>0</th>\n",
       "      <td>I138884</td>\n",
       "      <td>10/30/2016 9:58</td>\n",
       "      <td>C241288</td>\n",
       "      <td>Female</td>\n",
       "      <td>28</td>\n",
       "      <td>Clothing</td>\n",
       "      <td>5</td>\n",
       "      <td>1500.40</td>\n",
       "      <td>1425.380</td>\n",
       "      <td>Credit Card</td>\n",
       "      <td>South</td>\n",
       "      <td>Kentucky</td>\n",
       "      <td>Kanyon</td>\n",
       "    </tr>\n",
       "    <tr>\n",
       "      <th>1</th>\n",
       "      <td>I317333</td>\n",
       "      <td>10/30/2016 9:58</td>\n",
       "      <td>C111565</td>\n",
       "      <td>Male</td>\n",
       "      <td>21</td>\n",
       "      <td>Shoes</td>\n",
       "      <td>3</td>\n",
       "      <td>1800.51</td>\n",
       "      <td>1620.459</td>\n",
       "      <td>Debit Card</td>\n",
       "      <td>South</td>\n",
       "      <td>Kentucky</td>\n",
       "      <td>Viaport Outlet</td>\n",
       "    </tr>\n",
       "    <tr>\n",
       "      <th>2</th>\n",
       "      <td>I127801</td>\n",
       "      <td>10/30/2016 9:58</td>\n",
       "      <td>C266599</td>\n",
       "      <td>Male</td>\n",
       "      <td>20</td>\n",
       "      <td>Clothing</td>\n",
       "      <td>1</td>\n",
       "      <td>300.08</td>\n",
       "      <td>295.060</td>\n",
       "      <td>Cash</td>\n",
       "      <td>West</td>\n",
       "      <td>California</td>\n",
       "      <td>Metrocity</td>\n",
       "    </tr>\n",
       "    <tr>\n",
       "      <th>3</th>\n",
       "      <td>I173702</td>\n",
       "      <td>10/30/2016 9:58</td>\n",
       "      <td>C988172</td>\n",
       "      <td>Female</td>\n",
       "      <td>66</td>\n",
       "      <td>Shoes</td>\n",
       "      <td>5</td>\n",
       "      <td>3000.85</td>\n",
       "      <td>2900.765</td>\n",
       "      <td>Credit Card</td>\n",
       "      <td>South</td>\n",
       "      <td>Florida</td>\n",
       "      <td>Metropol AVM</td>\n",
       "    </tr>\n",
       "    <tr>\n",
       "      <th>4</th>\n",
       "      <td>I337046</td>\n",
       "      <td>10/30/2016 9:59</td>\n",
       "      <td>C189076</td>\n",
       "      <td>Female</td>\n",
       "      <td>53</td>\n",
       "      <td>Books</td>\n",
       "      <td>4</td>\n",
       "      <td>60.60</td>\n",
       "      <td>45.450</td>\n",
       "      <td>Cash</td>\n",
       "      <td>South</td>\n",
       "      <td>Florida</td>\n",
       "      <td>Kanyon</td>\n",
       "    </tr>\n",
       "  </tbody>\n",
       "</table>\n",
       "</div>"
      ],
      "text/plain": [
       "  invoice_no     invoice_date customer_id  gender  age  category  quantity  \\\n",
       "0    I138884  10/30/2016 9:58     C241288  Female   28  Clothing         5   \n",
       "1    I317333  10/30/2016 9:58     C111565    Male   21     Shoes         3   \n",
       "2    I127801  10/30/2016 9:58     C266599    Male   20  Clothing         1   \n",
       "3    I173702  10/30/2016 9:58     C988172  Female   66     Shoes         5   \n",
       "4    I337046  10/30/2016 9:59     C189076  Female   53     Books         4   \n",
       "\n",
       "   selling_price_per_unit  cost_price_per_unit payment_method region  \\\n",
       "0                 1500.40             1425.380    Credit Card  South   \n",
       "1                 1800.51             1620.459     Debit Card  South   \n",
       "2                  300.08              295.060           Cash   West   \n",
       "3                 3000.85             2900.765    Credit Card  South   \n",
       "4                   60.60               45.450           Cash  South   \n",
       "\n",
       "        state   shopping_mall  \n",
       "0    Kentucky          Kanyon  \n",
       "1    Kentucky  Viaport Outlet  \n",
       "2  California       Metrocity  \n",
       "3     Florida    Metropol AVM  \n",
       "4     Florida          Kanyon  "
      ]
     },
     "execution_count": 83,
     "metadata": {},
     "output_type": "execute_result"
    }
   ],
   "source": [
    "df.head()"
   ]
  },
  {
   "cell_type": "markdown",
   "id": "62298c37-3503-467f-85e3-1a44f163a334",
   "metadata": {},
   "source": [
    "### 1. Check missing values and duplicate records"
   ]
  },
  {
   "cell_type": "markdown",
   "id": "7cb535ff",
   "metadata": {},
   "source": [
    "### MISSING VALUES"
   ]
  },
  {
   "cell_type": "code",
   "execution_count": 84,
   "id": "af3c0df9",
   "metadata": {},
   "outputs": [
    {
     "data": {
      "text/plain": [
       "invoice_no                0\n",
       "invoice_date              0\n",
       "customer_id               0\n",
       "gender                    0\n",
       "age                       0\n",
       "category                  0\n",
       "quantity                  0\n",
       "selling_price_per_unit    0\n",
       "cost_price_per_unit       0\n",
       "payment_method            0\n",
       "region                    0\n",
       "state                     0\n",
       "shopping_mall             0\n",
       "dtype: int64"
      ]
     },
     "execution_count": 84,
     "metadata": {},
     "output_type": "execute_result"
    }
   ],
   "source": [
    "df.isnull().sum()"
   ]
  },
  {
   "cell_type": "markdown",
   "id": "9e387b7c",
   "metadata": {},
   "source": [
    "### DUPLICATED VALUES"
   ]
  },
  {
   "cell_type": "code",
   "execution_count": 85,
   "id": "452dafda",
   "metadata": {},
   "outputs": [
    {
     "name": "stdout",
     "output_type": "stream",
     "text": [
      "Total Duplicated Values: 0\n"
     ]
    }
   ],
   "source": [
    "print(f\"Total Duplicated Values: {df.duplicated().sum()}\")"
   ]
  },
  {
   "cell_type": "markdown",
   "id": "c70db244-711e-4406-8d14-40c08539b8e5",
   "metadata": {},
   "source": [
    "### 2. Add column name 'Total Sales'"
   ]
  },
  {
   "cell_type": "code",
   "execution_count": 86,
   "id": "1de7078e",
   "metadata": {},
   "outputs": [
    {
     "data": {
      "text/html": [
       "<div>\n",
       "<style scoped>\n",
       "    .dataframe tbody tr th:only-of-type {\n",
       "        vertical-align: middle;\n",
       "    }\n",
       "\n",
       "    .dataframe tbody tr th {\n",
       "        vertical-align: top;\n",
       "    }\n",
       "\n",
       "    .dataframe thead th {\n",
       "        text-align: right;\n",
       "    }\n",
       "</style>\n",
       "<table border=\"1\" class=\"dataframe\">\n",
       "  <thead>\n",
       "    <tr style=\"text-align: right;\">\n",
       "      <th></th>\n",
       "      <th>invoice_no</th>\n",
       "      <th>invoice_date</th>\n",
       "      <th>customer_id</th>\n",
       "      <th>gender</th>\n",
       "      <th>age</th>\n",
       "      <th>category</th>\n",
       "      <th>quantity</th>\n",
       "      <th>selling_price_per_unit</th>\n",
       "      <th>cost_price_per_unit</th>\n",
       "      <th>payment_method</th>\n",
       "      <th>region</th>\n",
       "      <th>state</th>\n",
       "      <th>shopping_mall</th>\n",
       "      <th>Total Sales</th>\n",
       "    </tr>\n",
       "  </thead>\n",
       "  <tbody>\n",
       "    <tr>\n",
       "      <th>0</th>\n",
       "      <td>I138884</td>\n",
       "      <td>10/30/2016 9:58</td>\n",
       "      <td>C241288</td>\n",
       "      <td>Female</td>\n",
       "      <td>28</td>\n",
       "      <td>Clothing</td>\n",
       "      <td>5</td>\n",
       "      <td>1500.40</td>\n",
       "      <td>1425.380</td>\n",
       "      <td>Credit Card</td>\n",
       "      <td>South</td>\n",
       "      <td>Kentucky</td>\n",
       "      <td>Kanyon</td>\n",
       "      <td>7502.00</td>\n",
       "    </tr>\n",
       "    <tr>\n",
       "      <th>1</th>\n",
       "      <td>I317333</td>\n",
       "      <td>10/30/2016 9:58</td>\n",
       "      <td>C111565</td>\n",
       "      <td>Male</td>\n",
       "      <td>21</td>\n",
       "      <td>Shoes</td>\n",
       "      <td>3</td>\n",
       "      <td>1800.51</td>\n",
       "      <td>1620.459</td>\n",
       "      <td>Debit Card</td>\n",
       "      <td>South</td>\n",
       "      <td>Kentucky</td>\n",
       "      <td>Viaport Outlet</td>\n",
       "      <td>5401.53</td>\n",
       "    </tr>\n",
       "    <tr>\n",
       "      <th>2</th>\n",
       "      <td>I127801</td>\n",
       "      <td>10/30/2016 9:58</td>\n",
       "      <td>C266599</td>\n",
       "      <td>Male</td>\n",
       "      <td>20</td>\n",
       "      <td>Clothing</td>\n",
       "      <td>1</td>\n",
       "      <td>300.08</td>\n",
       "      <td>295.060</td>\n",
       "      <td>Cash</td>\n",
       "      <td>West</td>\n",
       "      <td>California</td>\n",
       "      <td>Metrocity</td>\n",
       "      <td>300.08</td>\n",
       "    </tr>\n",
       "    <tr>\n",
       "      <th>3</th>\n",
       "      <td>I173702</td>\n",
       "      <td>10/30/2016 9:58</td>\n",
       "      <td>C988172</td>\n",
       "      <td>Female</td>\n",
       "      <td>66</td>\n",
       "      <td>Shoes</td>\n",
       "      <td>5</td>\n",
       "      <td>3000.85</td>\n",
       "      <td>2900.765</td>\n",
       "      <td>Credit Card</td>\n",
       "      <td>South</td>\n",
       "      <td>Florida</td>\n",
       "      <td>Metropol AVM</td>\n",
       "      <td>15004.25</td>\n",
       "    </tr>\n",
       "    <tr>\n",
       "      <th>4</th>\n",
       "      <td>I337046</td>\n",
       "      <td>10/30/2016 9:59</td>\n",
       "      <td>C189076</td>\n",
       "      <td>Female</td>\n",
       "      <td>53</td>\n",
       "      <td>Books</td>\n",
       "      <td>4</td>\n",
       "      <td>60.60</td>\n",
       "      <td>45.450</td>\n",
       "      <td>Cash</td>\n",
       "      <td>South</td>\n",
       "      <td>Florida</td>\n",
       "      <td>Kanyon</td>\n",
       "      <td>242.40</td>\n",
       "    </tr>\n",
       "  </tbody>\n",
       "</table>\n",
       "</div>"
      ],
      "text/plain": [
       "  invoice_no     invoice_date customer_id  gender  age  category  quantity  \\\n",
       "0    I138884  10/30/2016 9:58     C241288  Female   28  Clothing         5   \n",
       "1    I317333  10/30/2016 9:58     C111565    Male   21     Shoes         3   \n",
       "2    I127801  10/30/2016 9:58     C266599    Male   20  Clothing         1   \n",
       "3    I173702  10/30/2016 9:58     C988172  Female   66     Shoes         5   \n",
       "4    I337046  10/30/2016 9:59     C189076  Female   53     Books         4   \n",
       "\n",
       "   selling_price_per_unit  cost_price_per_unit payment_method region  \\\n",
       "0                 1500.40             1425.380    Credit Card  South   \n",
       "1                 1800.51             1620.459     Debit Card  South   \n",
       "2                  300.08              295.060           Cash   West   \n",
       "3                 3000.85             2900.765    Credit Card  South   \n",
       "4                   60.60               45.450           Cash  South   \n",
       "\n",
       "        state   shopping_mall  Total Sales  \n",
       "0    Kentucky          Kanyon      7502.00  \n",
       "1    Kentucky  Viaport Outlet      5401.53  \n",
       "2  California       Metrocity       300.08  \n",
       "3     Florida    Metropol AVM     15004.25  \n",
       "4     Florida          Kanyon       242.40  "
      ]
     },
     "execution_count": 86,
     "metadata": {},
     "output_type": "execute_result"
    }
   ],
   "source": [
    "df[\"Total Sales\"]=df[\"selling_price_per_unit\"]*df[\"quantity\"]\n",
    "df[\"Total Sales\"]=df[\"Total Sales\"].round(2)\n",
    "df.head()"
   ]
  },
  {
   "cell_type": "markdown",
   "id": "cb7a68ea-fe72-439b-85ac-3a443d67c2f2",
   "metadata": {},
   "source": [
    "### 3. How many customers have age more than 60?"
   ]
  },
  {
   "cell_type": "code",
   "execution_count": 87,
   "id": "bca61e71",
   "metadata": {},
   "outputs": [
    {
     "name": "stdout",
     "output_type": "stream",
     "text": [
      "Total No of Customers having age more than 60: 17169\n"
     ]
    }
   ],
   "source": [
    "print(\"Total No of Customers having age more than 60:\",df[df[\"age\"]>60].shape[0])"
   ]
  },
  {
   "cell_type": "markdown",
   "id": "02f93e1f-5e74-4c7f-8934-92156288e982",
   "metadata": {},
   "source": [
    "### 4. How many unique customer_id entries are there? Do any customers make multiple purchases?"
   ]
  },
  {
   "cell_type": "markdown",
   "id": "cccee501",
   "metadata": {},
   "source": [
    "### NO OF UNIQUE CUSTOMER IDS"
   ]
  },
  {
   "cell_type": "code",
   "execution_count": 88,
   "id": "13943cbc",
   "metadata": {},
   "outputs": [
    {
     "name": "stdout",
     "output_type": "stream",
     "text": [
      "No of Unique Customer IDs Entries: 99457\n"
     ]
    }
   ],
   "source": [
    "print(\"No of Unique Customer IDs Entries:\",df[\"customer_id\"].nunique())"
   ]
  },
  {
   "cell_type": "markdown",
   "id": "ad4ae7a5",
   "metadata": {},
   "source": [
    "### CUSTOMERS WITH MULTIPLE PURCHASES"
   ]
  },
  {
   "cell_type": "code",
   "execution_count": 89,
   "id": "076c13be",
   "metadata": {},
   "outputs": [
    {
     "name": "stdout",
     "output_type": "stream",
     "text": [
      "No of Customers makes Multiple Purchases: 0\n"
     ]
    }
   ],
   "source": [
    "mult_purchases=df[\"customer_id\"]!=df[\"customer_id\"].unique()\n",
    "print(\"No of Customers makes Multiple Purchases:\",mult_purchases.sum())"
   ]
  },
  {
   "cell_type": "markdown",
   "id": "b5bafe98-cfe8-403e-9027-7c3c6208334b",
   "metadata": {},
   "source": [
    "### 5. Are there more male or female customers, Show in Pie Chart?"
   ]
  },
  {
   "cell_type": "code",
   "execution_count": 90,
   "id": "1c017a69",
   "metadata": {},
   "outputs": [
    {
     "data": {
      "image/png": "[encoded data removed]",
      "text/plain": [
       "<Figure size 640x480 with 1 Axes>"
      ]
     },
     "metadata": {},
     "output_type": "display_data"
    }
   ],
   "source": [
    "df[\"gender\"].value_counts().plot(kind=\"pie\")\n",
    "plt.title(\"NO OF MALES AND FEMALES\")\n",
    "plt.show()"
   ]
  },
  {
   "cell_type": "markdown",
   "id": "fbd9773a-65d3-4fc8-b885-b337f2c82a1f",
   "metadata": {},
   "source": [
    "### 6. Which category is least popular among customers?"
   ]
  },
  {
   "cell_type": "code",
   "execution_count": 91,
   "id": "e1b323a4",
   "metadata": {},
   "outputs": [
    {
     "name": "stdout",
     "output_type": "stream",
     "text": [
      "Cataogory Least Popular among Customer category\n",
      "Books    4981\n",
      "Name: count, dtype: int64\n"
     ]
    }
   ],
   "source": [
    "print(\"Cataogory Least Popular among Customer\",df[\"category\"].value_counts().tail(1))"
   ]
  },
  {
   "cell_type": "markdown",
   "id": "f460962d-92bb-40e5-9417-5647a3d2da5a",
   "metadata": {},
   "source": [
    "### 7. Which category has the highest sales volume?"
   ]
  },
  {
   "cell_type": "code",
   "execution_count": 92,
   "id": "d18bcd5a",
   "metadata": {},
   "outputs": [
    {
     "name": "stdout",
     "output_type": "stream",
     "text": [
      "Cataogory with Highest Sales Volume category\n",
      "Clothing    34487\n",
      "Name: count, dtype: int64\n"
     ]
    }
   ],
   "source": [
    "print(\"Cataogory with Highest Sales Volume\",df[\"category\"].value_counts().head(1))"
   ]
  },
  {
   "cell_type": "markdown",
   "id": "072ffb70-be13-4748-8379-3ab98cbde250",
   "metadata": {},
   "source": [
    "### 8. Add column name 'Total Profit'\n",
    "\n",
    "Total Profit=Total Sales−Total Costs"
   ]
  },
  {
   "cell_type": "code",
   "execution_count": 93,
   "id": "01c50889",
   "metadata": {},
   "outputs": [
    {
     "data": {
      "text/html": [
       "<div>\n",
       "<style scoped>\n",
       "    .dataframe tbody tr th:only-of-type {\n",
       "        vertical-align: middle;\n",
       "    }\n",
       "\n",
       "    .dataframe tbody tr th {\n",
       "        vertical-align: top;\n",
       "    }\n",
       "\n",
       "    .dataframe thead th {\n",
       "        text-align: right;\n",
       "    }\n",
       "</style>\n",
       "<table border=\"1\" class=\"dataframe\">\n",
       "  <thead>\n",
       "    <tr style=\"text-align: right;\">\n",
       "      <th></th>\n",
       "      <th>invoice_no</th>\n",
       "      <th>invoice_date</th>\n",
       "      <th>customer_id</th>\n",
       "      <th>gender</th>\n",
       "      <th>age</th>\n",
       "      <th>category</th>\n",
       "      <th>quantity</th>\n",
       "      <th>selling_price_per_unit</th>\n",
       "      <th>cost_price_per_unit</th>\n",
       "      <th>payment_method</th>\n",
       "      <th>region</th>\n",
       "      <th>state</th>\n",
       "      <th>shopping_mall</th>\n",
       "      <th>Total Sales</th>\n",
       "      <th>Total Profit</th>\n",
       "    </tr>\n",
       "  </thead>\n",
       "  <tbody>\n",
       "    <tr>\n",
       "      <th>0</th>\n",
       "      <td>I138884</td>\n",
       "      <td>10/30/2016 9:58</td>\n",
       "      <td>C241288</td>\n",
       "      <td>Female</td>\n",
       "      <td>28</td>\n",
       "      <td>Clothing</td>\n",
       "      <td>5</td>\n",
       "      <td>1500.40</td>\n",
       "      <td>1425.380</td>\n",
       "      <td>Credit Card</td>\n",
       "      <td>South</td>\n",
       "      <td>Kentucky</td>\n",
       "      <td>Kanyon</td>\n",
       "      <td>7502.00</td>\n",
       "      <td>6076.62</td>\n",
       "    </tr>\n",
       "    <tr>\n",
       "      <th>1</th>\n",
       "      <td>I317333</td>\n",
       "      <td>10/30/2016 9:58</td>\n",
       "      <td>C111565</td>\n",
       "      <td>Male</td>\n",
       "      <td>21</td>\n",
       "      <td>Shoes</td>\n",
       "      <td>3</td>\n",
       "      <td>1800.51</td>\n",
       "      <td>1620.459</td>\n",
       "      <td>Debit Card</td>\n",
       "      <td>South</td>\n",
       "      <td>Kentucky</td>\n",
       "      <td>Viaport Outlet</td>\n",
       "      <td>5401.53</td>\n",
       "      <td>3781.07</td>\n",
       "    </tr>\n",
       "    <tr>\n",
       "      <th>2</th>\n",
       "      <td>I127801</td>\n",
       "      <td>10/30/2016 9:58</td>\n",
       "      <td>C266599</td>\n",
       "      <td>Male</td>\n",
       "      <td>20</td>\n",
       "      <td>Clothing</td>\n",
       "      <td>1</td>\n",
       "      <td>300.08</td>\n",
       "      <td>295.060</td>\n",
       "      <td>Cash</td>\n",
       "      <td>West</td>\n",
       "      <td>California</td>\n",
       "      <td>Metrocity</td>\n",
       "      <td>300.08</td>\n",
       "      <td>5.02</td>\n",
       "    </tr>\n",
       "    <tr>\n",
       "      <th>3</th>\n",
       "      <td>I173702</td>\n",
       "      <td>10/30/2016 9:58</td>\n",
       "      <td>C988172</td>\n",
       "      <td>Female</td>\n",
       "      <td>66</td>\n",
       "      <td>Shoes</td>\n",
       "      <td>5</td>\n",
       "      <td>3000.85</td>\n",
       "      <td>2900.765</td>\n",
       "      <td>Credit Card</td>\n",
       "      <td>South</td>\n",
       "      <td>Florida</td>\n",
       "      <td>Metropol AVM</td>\n",
       "      <td>15004.25</td>\n",
       "      <td>12103.48</td>\n",
       "    </tr>\n",
       "    <tr>\n",
       "      <th>4</th>\n",
       "      <td>I337046</td>\n",
       "      <td>10/30/2016 9:59</td>\n",
       "      <td>C189076</td>\n",
       "      <td>Female</td>\n",
       "      <td>53</td>\n",
       "      <td>Books</td>\n",
       "      <td>4</td>\n",
       "      <td>60.60</td>\n",
       "      <td>45.450</td>\n",
       "      <td>Cash</td>\n",
       "      <td>South</td>\n",
       "      <td>Florida</td>\n",
       "      <td>Kanyon</td>\n",
       "      <td>242.40</td>\n",
       "      <td>196.95</td>\n",
       "    </tr>\n",
       "  </tbody>\n",
       "</table>\n",
       "</div>"
      ],
      "text/plain": [
       "  invoice_no     invoice_date customer_id  gender  age  category  quantity  \\\n",
       "0    I138884  10/30/2016 9:58     C241288  Female   28  Clothing         5   \n",
       "1    I317333  10/30/2016 9:58     C111565    Male   21     Shoes         3   \n",
       "2    I127801  10/30/2016 9:58     C266599    Male   20  Clothing         1   \n",
       "3    I173702  10/30/2016 9:58     C988172  Female   66     Shoes         5   \n",
       "4    I337046  10/30/2016 9:59     C189076  Female   53     Books         4   \n",
       "\n",
       "   selling_price_per_unit  cost_price_per_unit payment_method region  \\\n",
       "0                 1500.40             1425.380    Credit Card  South   \n",
       "1                 1800.51             1620.459     Debit Card  South   \n",
       "2                  300.08              295.060           Cash   West   \n",
       "3                 3000.85             2900.765    Credit Card  South   \n",
       "4                   60.60               45.450           Cash  South   \n",
       "\n",
       "        state   shopping_mall  Total Sales  Total Profit  \n",
       "0    Kentucky          Kanyon      7502.00       6076.62  \n",
       "1    Kentucky  Viaport Outlet      5401.53       3781.07  \n",
       "2  California       Metrocity       300.08          5.02  \n",
       "3     Florida    Metropol AVM     15004.25      12103.48  \n",
       "4     Florida          Kanyon       242.40        196.95  "
      ]
     },
     "execution_count": 93,
     "metadata": {},
     "output_type": "execute_result"
    }
   ],
   "source": [
    "df[\"Total Profit\"]=df[\"Total Sales\"]-df[\"cost_price_per_unit\"]\n",
    "df[\"Total Profit\"]=df[\"Total Profit\"].round(2)\n",
    "df.head()"
   ]
  },
  {
   "cell_type": "markdown",
   "id": "25d34dd0-d3e7-4238-a0c5-7e65835affa4",
   "metadata": {},
   "source": [
    "### 9. Display the top 10 invoices with the highest quantities sold?"
   ]
  },
  {
   "cell_type": "code",
   "execution_count": 94,
   "id": "ed548cfd",
   "metadata": {},
   "outputs": [
    {
     "data": {
      "text/html": [
       "<div>\n",
       "<style scoped>\n",
       "    .dataframe tbody tr th:only-of-type {\n",
       "        vertical-align: middle;\n",
       "    }\n",
       "\n",
       "    .dataframe tbody tr th {\n",
       "        vertical-align: top;\n",
       "    }\n",
       "\n",
       "    .dataframe thead th {\n",
       "        text-align: right;\n",
       "    }\n",
       "</style>\n",
       "<table border=\"1\" class=\"dataframe\">\n",
       "  <thead>\n",
       "    <tr style=\"text-align: right;\">\n",
       "      <th></th>\n",
       "      <th>invoice_no</th>\n",
       "      <th>quantity</th>\n",
       "    </tr>\n",
       "  </thead>\n",
       "  <tbody>\n",
       "    <tr>\n",
       "      <th>100</th>\n",
       "      <td>I283443</td>\n",
       "      <td>15</td>\n",
       "    </tr>\n",
       "    <tr>\n",
       "      <th>275</th>\n",
       "      <td>I282789</td>\n",
       "      <td>12</td>\n",
       "    </tr>\n",
       "    <tr>\n",
       "      <th>109</th>\n",
       "      <td>I293215</td>\n",
       "      <td>12</td>\n",
       "    </tr>\n",
       "    <tr>\n",
       "      <th>305</th>\n",
       "      <td>I115679</td>\n",
       "      <td>11</td>\n",
       "    </tr>\n",
       "    <tr>\n",
       "      <th>129</th>\n",
       "      <td>I160221</td>\n",
       "      <td>10</td>\n",
       "    </tr>\n",
       "    <tr>\n",
       "      <th>61</th>\n",
       "      <td>I207205</td>\n",
       "      <td>10</td>\n",
       "    </tr>\n",
       "    <tr>\n",
       "      <th>224</th>\n",
       "      <td>I353272</td>\n",
       "      <td>10</td>\n",
       "    </tr>\n",
       "    <tr>\n",
       "      <th>201</th>\n",
       "      <td>I286193</td>\n",
       "      <td>9</td>\n",
       "    </tr>\n",
       "    <tr>\n",
       "      <th>145</th>\n",
       "      <td>I246375</td>\n",
       "      <td>8</td>\n",
       "    </tr>\n",
       "    <tr>\n",
       "      <th>11</th>\n",
       "      <td>I139207</td>\n",
       "      <td>8</td>\n",
       "    </tr>\n",
       "  </tbody>\n",
       "</table>\n",
       "</div>"
      ],
      "text/plain": [
       "    invoice_no  quantity\n",
       "100    I283443        15\n",
       "275    I282789        12\n",
       "109    I293215        12\n",
       "305    I115679        11\n",
       "129    I160221        10\n",
       "61     I207205        10\n",
       "224    I353272        10\n",
       "201    I286193         9\n",
       "145    I246375         8\n",
       "11     I139207         8"
      ]
     },
     "execution_count": 94,
     "metadata": {},
     "output_type": "execute_result"
    }
   ],
   "source": [
    "df[[\"invoice_no\",\"quantity\"]].sort_values(by=\"quantity\",ascending=False).head(10)"
   ]
  },
  {
   "cell_type": "markdown",
   "id": "c0dcf861-2b66-4157-a2c3-5933940128bc",
   "metadata": {},
   "source": [
    "### 10. Which payment method is most commonly used?"
   ]
  },
  {
   "cell_type": "code",
   "execution_count": 95,
   "id": "204a2ea8",
   "metadata": {},
   "outputs": [
    {
     "name": "stdout",
     "output_type": "stream",
     "text": [
      "Most Commonly Used Payment Method payment_method\n",
      "Cash    44447\n",
      "Name: count, dtype: int64\n"
     ]
    }
   ],
   "source": [
    "print(\"Most Commonly Used Payment Method\",df[\"payment_method\"].value_counts().nlargest(1))"
   ]
  },
  {
   "cell_type": "markdown",
   "id": "c7323023-4f9b-42ee-9088-6de00054ca8f",
   "metadata": {},
   "source": [
    "### 11. Total Sales with respect to region?"
   ]
  },
  {
   "cell_type": "code",
   "execution_count": 96,
   "id": "5f951a51",
   "metadata": {},
   "outputs": [
    {
     "name": "stdout",
     "output_type": "stream",
     "text": [
      "Sales South Region: 40655491.64\n",
      "Sales West Region: 79825624.03\n",
      "Sales Central Region: 58803471.74\n",
      "Sales East Region: 72280660.57\n"
     ]
    }
   ],
   "source": [
    "Sales_South=df[df[\"region\"]==\"South\"][\"Total Sales\"].sum().round(2)\n",
    "Sales_West=df[df[\"region\"]==\"West\"][\"Total Sales\"].sum().round(2)\n",
    "Sales_Central=df[df[\"region\"]==\"Central\"][\"Total Sales\"].sum().round(2)\n",
    "Sales_East=df[df[\"region\"]==\"East\"][\"Total Sales\"].sum().round(2)\n",
    "\n",
    "print(\"Sales South Region:\",Sales_South)\n",
    "print(\"Sales West Region:\",Sales_West)\n",
    "print(\"Sales Central Region:\",Sales_Central)\n",
    "print(\"Sales East Region:\",Sales_East)\n"
   ]
  },
  {
   "cell_type": "markdown",
   "id": "fefb09f1-94fc-48b1-b692-cb218fba0e1f",
   "metadata": {},
   "source": [
    "### 12. Sort Malls with average sales higher to lower?"
   ]
  },
  {
   "cell_type": "code",
   "execution_count": 97,
   "id": "aea7cc02",
   "metadata": {},
   "outputs": [
    {
     "data": {
      "text/plain": [
       "shopping_mall\n",
       "Zorlu Center        2573.248351\n",
       "Kanyon              2550.618396\n",
       "Mall of Istanbul    2543.276766\n",
       "Viaport Outlet      2523.835118\n",
       "Istinye Park        2523.186677\n",
       "Metropol AVM        2497.777108\n",
       "Metrocity           2485.030133\n",
       "Name: Total Sales, dtype: float64"
      ]
     },
     "execution_count": 97,
     "metadata": {},
     "output_type": "execute_result"
    }
   ],
   "source": [
    "data_malls=df.groupby('shopping_mall')[\"Total Sales\"].mean()\n",
    "sort_malls=data_malls.sort_values(ascending=False)\n",
    "sort_malls"
   ]
  },
  {
   "cell_type": "markdown",
   "id": "d514fb1f-9c86-4bfa-b6db-1d79a40fd0ff",
   "metadata": {},
   "source": [
    "### 13. Sort categories with the highest profit margins display in bar plot?\n",
    "\n",
    "Profit Margin=(Total Sales/Total Profit)×100"
   ]
  },
  {
   "cell_type": "code",
   "execution_count": 98,
   "id": "7a2ff6b7",
   "metadata": {},
   "outputs": [
    {
     "data": {
      "text/plain": [
       "<Axes: xlabel='category'>"
      ]
     },
     "execution_count": 98,
     "metadata": {},
     "output_type": "execute_result"
    },
    {
     "data": {
      "image/png": "[encoded data removed]",
      "text/plain": [
       "<Figure size 640x480 with 1 Axes>"
      ]
     },
     "metadata": {},
     "output_type": "display_data"
    }
   ],
   "source": [
    "prof_margin=(df[\"Total Sales\"].sum()/df[\"Total Profit\"].sum())*100\n",
    "df[df[\"Total Profit\"]>=prof_margin][\"category\"].value_counts().plot(kind=\"bar\")\n"
   ]
  },
  {
   "cell_type": "markdown",
   "id": "037e054f-3fa4-4859-b51a-55adeb675558",
   "metadata": {},
   "source": [
    "### 14.  What is the total number of transactions per region for each payment method?"
   ]
  },
  {
   "cell_type": "code",
   "execution_count": 99,
   "id": "841d0930",
   "metadata": {},
   "outputs": [
    {
     "data": {
      "text/plain": [
       "payment_method\n",
       "Cash           44447\n",
       "Credit Card    34931\n",
       "Debit Card     20079\n",
       "Name: count, dtype: int64"
      ]
     },
     "execution_count": 99,
     "metadata": {},
     "output_type": "execute_result"
    }
   ],
   "source": [
    "df[\"payment_method\"].value_counts()"
   ]
  },
  {
   "cell_type": "markdown",
   "id": "3b048142-ea4e-4322-8964-48f1e95f91d7",
   "metadata": {},
   "source": [
    "### 15. How do sales in different categories compare between males and females?"
   ]
  },
  {
   "cell_type": "code",
   "execution_count": 100,
   "id": "916ed339-9dd6-43d4-a606-c155ecc9dde7",
   "metadata": {},
   "outputs": [
    {
     "data": {
      "text/plain": [
       "gender  category       \n",
       "Female  Clothing           20652\n",
       "        Cosmetics           9070\n",
       "        Food & Beverage     8804\n",
       "        Toys                6085\n",
       "        Shoes               5967\n",
       "        Souvenir            3017\n",
       "        Technology          2981\n",
       "        Books               2906\n",
       "Male    Clothing           13835\n",
       "        Cosmetics           6027\n",
       "        Food & Beverage     5972\n",
       "        Shoes               4067\n",
       "        Toys                4002\n",
       "        Books               2075\n",
       "        Technology          2015\n",
       "        Souvenir            1982\n",
       "Name: count, dtype: int64"
      ]
     },
     "execution_count": 100,
     "metadata": {},
     "output_type": "execute_result"
    }
   ],
   "source": [
    "df[[\"gender\",\"category\"]].groupby('gender').value_counts()\n"
   ]
  }
 ],
 "metadata": {
  "kernelspec": {
   "display_name": "base",
   "language": "python",
   "name": "python3"
  },
  "language_info": {
   "codemirror_mode": {
    "name": "ipython",
    "version": 3
   },
   "file_extension": ".py",
   "mimetype": "text/x-python",
   "name": "python",
   "nbconvert_exporter": "python",
   "pygments_lexer": "ipython3",
   "version": "3.11.7"
  }
 },
 "nbformat": 4,
 "nbformat_minor": 5
}
