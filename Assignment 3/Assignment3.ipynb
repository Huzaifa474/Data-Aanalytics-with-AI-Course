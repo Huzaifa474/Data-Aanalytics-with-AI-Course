{
 "cells": [
  {
   "cell_type": "markdown",
   "id": "79f5954f-3a5e-46b6-861c-0908386b15ca",
   "metadata": {},
   "source": [
    "# Question 1"
   ]
  },
  {
   "cell_type": "code",
   "execution_count": 1,
   "id": "81f0df54-c88b-4046-9f12-bf6d2cf578b0",
   "metadata": {},
   "outputs": [],
   "source": [
    "# Q1. Write program to check a person’s eligibility for a loan based on age, credit score, and income. This time, the\n",
    "# eligibility criteria will be:\n",
    "# The person must be 18 years or older. The person must have a credit score of 650 or higher. \n",
    "# The person must have an annual income of at least 30000 dollars If the person has a credit score of 700 or higher,\n",
    "# they may still be eligible with an income of 25000 dollars or more."
   ]
  },
  {
   "cell_type": "code",
   "execution_count": 6,
   "id": "20cdf922-57ed-4728-85ba-0149f76c04d8",
   "metadata": {},
   "outputs": [
    {
     "name": "stdin",
     "output_type": "stream",
     "text": [
      "Enter age 19\n",
      "Enter Credit Score 650\n",
      "Enter Annual Income 310000\n"
     ]
    },
    {
     "name": "stdout",
     "output_type": "stream",
     "text": [
      "You are Eligible for Loan\n"
     ]
    }
   ],
   "source": [
    "age=int(input(\"Enter age\"))\n",
    "if age>=18:\n",
    "    credit_score=int(input(\"Enter Credit Score\"))\n",
    "    income=int(input(\"Enter Annual Income\"))\n",
    "    if credit_score>-650 and income>=30000:\n",
    "        print(\"You are Eligible for Loan\")\n",
    "    elif credit_score>=700 and income>=25000:\n",
    "        print(\"You are Eligible for Loan\")\n",
    "    else:\n",
    "        print(\"You are not eligible for Loan\")\n",
    "else:\n",
    "    print(\"Underage\")\n"
   ]
  },
  {
   "cell_type": "markdown",
   "id": "0d434278-6f11-4d92-9ccb-31dd7b837998",
   "metadata": {},
   "source": [
    "# Question 2"
   ]
  },
  {
   "cell_type": "code",
   "execution_count": 7,
   "id": "33f9537b-9040-4b82-9928-7d33169321fd",
   "metadata": {},
   "outputs": [],
   "source": [
    "# Q2. Write a Python program that checks if a person is an adult (age ≥ 18).\n",
    "# Take the age as input.\n",
    "# If the person is underage (age < 18), show message: \"You are underage\" and don't ask for experience.\n",
    "# If the person is an adult, take years of experience as input and print:\n",
    "# \"You have a lot of experience.\" (10+ years)\n",
    "# \"You have moderate experience.\" (5-9 years)\n",
    "# \"You are relatively new.\" (2-4 years)\n",
    "# \"You are just starting out.\" (less than 2 years)"
   ]
  },
  {
   "cell_type": "code",
   "execution_count": 13,
   "id": "d83dc1a1-aed2-4985-86a6-7d9726e43f9f",
   "metadata": {},
   "outputs": [
    {
     "name": "stdin",
     "output_type": "stream",
     "text": [
      "Enter age 19\n"
     ]
    },
    {
     "name": "stdout",
     "output_type": "stream",
     "text": [
      "Adult\n"
     ]
    },
    {
     "name": "stdin",
     "output_type": "stream",
     "text": [
      "Enter Experience 7\n"
     ]
    },
    {
     "name": "stdout",
     "output_type": "stream",
     "text": [
      "You have moderate Experience\n"
     ]
    }
   ],
   "source": [
    "age=int(input(\"Enter age\"))\n",
    "if age<18:\n",
    "    print(\"Underage\")\n",
    "else:\n",
    "    print(\"Adult\")\n",
    "    experience=int(input(\"Enter Experience\"))\n",
    "    if experience>=10:\n",
    "        print(\"You have a lot of Experience\")\n",
    "    elif experience>=5 and experience<=9:\n",
    "        print(\"You have moderate Experience\")\n",
    "    elif experience>=2 and experience<=4:\n",
    "        print(\"You are relatively new\")\n",
    "    else:\n",
    "        print(\"You are just starting out\")"
   ]
  },
  {
   "cell_type": "markdown",
   "id": "29af1dc3-4942-4d45-9074-992638351d5d",
   "metadata": {},
   "source": [
    "# Question 3"
   ]
  },
  {
   "cell_type": "code",
   "execution_count": 14,
   "id": "495a1ffc-c989-4f9f-8b98-71f3574ecf87",
   "metadata": {},
   "outputs": [],
   "source": [
    "# Q3. Write a program to explore below variables\n",
    "# a) Print their memory address (to check if python assigns same address of different variables having same element)\n",
    "# b) Find memory size and append them in a list, use this list to find data type having least memory size\n",
    "# c) Print final name of data type which has lowest memory\n",
    "# Result will help a programmer to decide which variable is storing less memory and variable location"
   ]
  },
  {
   "cell_type": "code",
   "execution_count": 17,
   "id": "227e0297-245c-4e22-bfa7-83cff633d88e",
   "metadata": {},
   "outputs": [
    {
     "name": "stdout",
     "output_type": "stream",
     "text": [
      "Integer 28\n",
      "Float 24\n",
      "String 67\n",
      "List 88\n",
      "Tuple 64\n",
      "Data Type with Least Memory Size Float 24\n"
     ]
    }
   ],
   "source": [
    "import sys\n",
    "memory_size=[]\n",
    "a=2 #Integer\n",
    "b=2.9999 #Float\n",
    "s1=\"Python programming\" #String\n",
    "l1=[1,2,3] #List\n",
    "t1=(1,2,3) #Tuple\n",
    "print(\"Integer\",sys.getsizeof(a))\n",
    "print(\"Float\",sys.getsizeof(b))\n",
    "print(\"String\",sys.getsizeof(s1))\n",
    "print(\"List\",sys.getsizeof(l1))\n",
    "print(\"Tuple\",sys.getsizeof(t1))\n",
    "\n",
    "#Appending in the list\n",
    "memory_size.append(sys.getsizeof(a))\n",
    "memory_size.append(sys.getsizeof(b))\n",
    "memory_size.append(sys.getsizeof(s1))\n",
    "memory_size.append(sys.getsizeof(l1))\n",
    "memory_size.append(sys.getsizeof(t1))\n",
    "#checking for Element least memory size\n",
    "memory_size.sort()\n",
    "least_memory=memory_size[0]\n",
    "\n",
    "print(\"Data Type with Least Memory Size Float\",least_memory)"
   ]
  },
  {
   "cell_type": "markdown",
   "id": "c9738fa1-9d87-4d1a-b9d8-af1c6d84ac0e",
   "metadata": {},
   "source": [
    "# Question 4"
   ]
  },
  {
   "cell_type": "code",
   "execution_count": 1,
   "id": "c2a19b6a-4937-4331-bf11-5a4f2ca7cceb",
   "metadata": {},
   "outputs": [],
   "source": [
    "# Q4. Write a Python program that asks the user to enter an email address. The program should check if the email \n",
    "# contains the characters @ and \".\" (ignoring case). If either character is present, print \"Email format is valid.\" \n",
    "# Otherwise, print \"Invalid email format.\""
   ]
  },
  {
   "cell_type": "code",
   "execution_count": 6,
   "id": "75f30fab-6272-4a64-a19e-8bc0301f77b8",
   "metadata": {},
   "outputs": [
    {
     "name": "stdin",
     "output_type": "stream",
     "text": [
      "Enter Email Address huzaifa@yahoo.com\n"
     ]
    },
    {
     "name": "stdout",
     "output_type": "stream",
     "text": [
      "Valid Email\n"
     ]
    }
   ],
   "source": [
    "email=input(\"Enter Email Address\")\n",
    "if email.find(\"@\")!=-1 and email.find(\".\")!=-1:\n",
    "    print(\"Valid Email\")\n",
    "else:\n",
    "    print(\"Invalid Email\")"
   ]
  },
  {
   "cell_type": "markdown",
   "id": "69aa7098-d332-442c-8559-b8d3847e28a0",
   "metadata": {},
   "source": [
    "# Question 5"
   ]
  },
  {
   "cell_type": "code",
   "execution_count": 7,
   "id": "b3b202a8-a35d-4a2e-bfd4-20fabb70784d",
   "metadata": {},
   "outputs": [],
   "source": [
    "# Q5. Write a python program to know data type of each element stored in a tuple, append the data types in a list.\n",
    "# Show final output in a list as data types of tuple elements\n",
    "# x = (11,22.333,'apple',[1,2,3],('a','b'))"
   ]
  },
  {
   "cell_type": "code",
   "execution_count": 10,
   "id": "e88ff3ea-a32f-4dfa-8c77-54dd825960d3",
   "metadata": {},
   "outputs": [
    {
     "name": "stdout",
     "output_type": "stream",
     "text": [
      "Data Type of 11 : <class 'int'>\n",
      "Data Type of 22.333 : <class 'float'>\n",
      "Data Type of apple : <class 'str'>\n",
      "Data Type of [1, 2, 3] : <class 'list'>\n",
      "Data Type of ('a', 'b') : <class 'tuple'>\n",
      "Data Types of Tuple Elements [<class 'int'>, <class 'float'>, <class 'str'>, <class 'list'>, <class 'tuple'>]\n"
     ]
    }
   ],
   "source": [
    "x = (11,22.333,'apple',[1,2,3],('a','b'))\n",
    "tuple_elements=[]\n",
    "for i in x:\n",
    "    print(f\"Data Type of {i} : {type(i)}\")\n",
    "    tuple_elements.append(type(i))\n",
    "print(\"Data Types of Tuple Elements\",tuple_elements)"
   ]
  },
  {
   "cell_type": "markdown",
   "id": "36522af4-c26c-42db-ad50-0f8b748db7be",
   "metadata": {},
   "source": [
    "# Question 6"
   ]
  },
  {
   "cell_type": "code",
   "execution_count": 28,
   "id": "c9f1712a-59c5-460f-8ead-f89ea023630f",
   "metadata": {},
   "outputs": [],
   "source": [
    "# Q6. Write a Python program that:\n",
    "# Checks if a given username exists in a list of active users.\n",
    "# Verifies if the user is the admin using identity operators.\n",
    "# Hints:\n",
    "# Use a list of tuples where each tuple contains a username and role\n",
    "# [(\"alice\", \"admin\"),\n",
    "# (\"bob\", \"user\"),\n",
    "# (\"charlie\", \"moderator\")]\n",
    "# Use the in operator to check if the username exists in the list.\n",
    "# Use the is operator to check if the user is the admin (admin is a specific reference, e.g., (\"alice\", \"admin\"))."
   ]
  },
  {
   "cell_type": "code",
   "execution_count": 43,
   "id": "7c36c288-7bde-45e6-a7bc-e49bcf8b8b37",
   "metadata": {},
   "outputs": [
    {
     "name": "stdin",
     "output_type": "stream",
     "text": [
      "Enter User Name huzaifa\n"
     ]
    },
    {
     "name": "stdout",
     "output_type": "stream",
     "text": [
      "User Exist\n",
      "User is Admin\n"
     ]
    }
   ],
   "source": [
    "users=[\n",
    "    (\"alice\", \"admin\"),\n",
    "(\"bob\", \"user\"),\n",
    "(\"charlie\", \"moderator\"),\n",
    "    (\"huzaifa\",\"admin\")\n",
    "]\n",
    "# print(users[0][1])\n",
    "val=\"admin\"\n",
    "usr=input(\"Enter User Name\")\n",
    "for i in users:\n",
    "    if usr in i[0]:\n",
    "        print(\"User Exist\")\n",
    "        if i[1] is val:\n",
    "            print(\"User is Admin\")\n",
    "        else:\n",
    "            print(\"User is not Admin\")\n",
    "        break\n",
    "else:\n",
    "    print(\"User Not Exist\")"
   ]
  },
  {
   "cell_type": "markdown",
   "id": "32608441-60b1-46a0-b922-de85abf33873",
   "metadata": {},
   "source": [
    "# Question 7"
   ]
  },
  {
   "cell_type": "code",
   "execution_count": 46,
   "id": "9cc1c137-7c97-4ff0-8589-b9237d9f5390",
   "metadata": {},
   "outputs": [],
   "source": [
    "# Q7. person1 has same family as of person2, write a program to print relation between person1 and person2, if their data is ['father name','mother name','district','family number'] same (Print relation 'Siblings') also check person1\n",
    "# data with person3 which is cousin of person1 (Print relation 'Cousin')\n",
    "# Hint:\n",
    "# Use identity operator"
   ]
  },
  {
   "cell_type": "code",
   "execution_count": 45,
   "id": "008a04b9-a265-405e-8c54-c9775c5c7005",
   "metadata": {},
   "outputs": [
    {
     "name": "stdout",
     "output_type": "stream",
     "text": [
      "SIBLINGS to PERSON 2\n",
      "COUSINS\n"
     ]
    }
   ],
   "source": [
    "person1= ['father name','mother name','district','family number']\n",
    "person2=person1\n",
    "person3=['father name','mother name','district','family number']\n",
    "\n",
    "#checking for siblings\n",
    "if person1 is person2:\n",
    "    print(\"SIBLINGS to PERSON 2\")\n",
    "else:\n",
    "    print(\"NON SIBLINGS to PERSON 2\")\n",
    "\n",
    "#checking for Cousin\n",
    "if person1 is not person3:\n",
    "    print(\"COUSINS\")\n",
    "else:\n",
    "    print(\"NON COUSINS\")"
   ]
  },
  {
   "cell_type": "markdown",
   "id": "4eaf16b8-f6ab-4773-a914-1aed7cb102e8",
   "metadata": {},
   "source": [
    "# Question 8"
   ]
  },
  {
   "cell_type": "code",
   "execution_count": 47,
   "id": "bb43981c-99d4-4304-a3f9-168ef17c5329",
   "metadata": {},
   "outputs": [],
   "source": [
    "# Q8. Write a Python program to store and display a book's title, author, year of publication, and price using a tuple.\n",
    "# Instructions:\n",
    "# Create a tuple to store the book details.\n",
    "# Ask the user for the book's title, author, year, and price.\n",
    "# Display the stored book information."
   ]
  },
  {
   "cell_type": "code",
   "execution_count": 56,
   "id": "30b82c1a-3134-46ea-b35d-649f86097b83",
   "metadata": {},
   "outputs": [
    {
     "name": "stdin",
     "output_type": "stream",
     "text": [
      "Enter Book Title PST\n",
      "Enter Publication Year 2020\n",
      "Enter Author BIEK\n",
      "Enter Book Price 1200\n"
     ]
    },
    {
     "name": "stdout",
     "output_type": "stream",
     "text": [
      "Book Information\n",
      "PST\n",
      "BIEK\n",
      "2020\n",
      "1200\n"
     ]
    }
   ],
   "source": [
    "books_details=tuple()\n",
    "books_details=list(books_details)\n",
    "book_title=input(\"Enter Book Title\")\n",
    "Year_Pub=input(\"Enter Publication Year\")\n",
    "author=input(\"Enter Author\")\n",
    "price=int(input(\"Enter Book Price\"))\n",
    "\n",
    "books_details.append(book_title)\n",
    "books_details.append(author)\n",
    "books_details.append(Year_Pub)\n",
    "books_details.append(price)\n",
    "\n",
    "books_details=tuple(books_details)\n",
    "print(\"Book Information\")\n",
    "for i in books_details:\n",
    "    print(i)"
   ]
  },
  {
   "cell_type": "markdown",
   "id": "bcb73943-3737-4ff6-81ae-8faddc2f7863",
   "metadata": {},
   "source": [
    "# Question 9"
   ]
  },
  {
   "cell_type": "code",
   "execution_count": 1,
   "id": "70537253-082b-421d-87d8-4d95fa9037e6",
   "metadata": {},
   "outputs": [],
   "source": [
    "# Q9. Write a program to check if a user’s chosen subject is available in the list of offered subjects.\n",
    "# Instructions:\n",
    "# Given a list of subjects, ask the user to input a subject.\n",
    "# Display whether the subject is available or not."
   ]
  },
  {
   "cell_type": "code",
   "execution_count": 2,
   "id": "76074e87-ef65-4d54-921e-cda4bd142524",
   "metadata": {},
   "outputs": [
    {
     "name": "stdin",
     "output_type": "stream",
     "text": [
      "Enter Subject Maths\n"
     ]
    },
    {
     "name": "stdout",
     "output_type": "stream",
     "text": [
      "SUBJECT AVAILABLE\n"
     ]
    }
   ],
   "source": [
    "subjects=[\"Maths\",\"English\",\"Urdu\",\"Science\",\"Computer\"]\n",
    "choice=input(\"Enter Subject\")\n",
    "if choice in subjects:\n",
    "    print(\"SUBJECT AVAILABLE\")\n",
    "else:\n",
    "    print(\"SUBJECT NOT AVAILALBE\")"
   ]
  },
  {
   "cell_type": "markdown",
   "id": "a095c30d-8881-41ce-90f9-5c5f89a0483c",
   "metadata": {},
   "source": [
    "# Question 10"
   ]
  },
  {
   "cell_type": "code",
   "execution_count": 3,
   "id": "44471985-351e-460a-bed0-6184bd938cf5",
   "metadata": {},
   "outputs": [],
   "source": [
    "# Q10. Write a Python program that performs the following tasks using tuple methods\n",
    "# Create a tuple with multiple integer values, including duplicates.\n",
    "# Prompt the user to input a number and find the index of its first occurrence in the tuple.\n",
    "# Ask the user for another number and count how many times it appears in the tuple.\n",
    "# Display appropriate messages based on the results"
   ]
  },
  {
   "cell_type": "code",
   "execution_count": 8,
   "id": "eb8fbb65-efcf-4fdf-aa31-785593fc8835",
   "metadata": {},
   "outputs": [
    {
     "name": "stdin",
     "output_type": "stream",
     "text": [
      "Enter Number to Search 4\n"
     ]
    },
    {
     "name": "stdout",
     "output_type": "stream",
     "text": [
      "First Occurance of 4 : 3\n"
     ]
    },
    {
     "name": "stdin",
     "output_type": "stream",
     "text": [
      "Enter Number to see Number of Occurances 2\n"
     ]
    },
    {
     "name": "stdout",
     "output_type": "stream",
     "text": [
      "Total Count of 2 : 3\n"
     ]
    }
   ],
   "source": [
    "t1=(1,2,1,4,5,6,2,7,8,2)\n",
    "no=int(input(\"Enter Number to Search\"))\n",
    "print(\"First Occurance of\",no,\":\",t1.index(no))\n",
    "no1=int(input(\"Enter Number to see Number of Occurances\"))\n",
    "print(\"Total Count of\",no1,\":\",t1.count(no1))"
   ]
  },
  {
   "cell_type": "markdown",
   "id": "955d51ca-80c7-46f1-96f0-80f0fa9ffb54",
   "metadata": {},
   "source": [
    "# Addtional Question"
   ]
  },
  {
   "cell_type": "code",
   "execution_count": 9,
   "id": "ff717333-f2d1-48bb-bce7-4f13a28df222",
   "metadata": {},
   "outputs": [],
   "source": [
    "# Write a Python program that asks the user to enter the current temperature in Celsius and checks whether it's\n",
    "# freezing, normal, or hot based on predefined temperature values.\"\n",
    "# Assignment Requirements:\n",
    "# Input: The user will be asked to enter the current temperature in Celsius.\n",
    "# Predefined values:\n",
    "# Freezing: -5\n",
    "# Normal: 25\n",
    "# Hot: 40"
   ]
  },
  {
   "cell_type": "code",
   "execution_count": 15,
   "id": "7395a46f-5dfd-4da2-bdf7-c860adeae326",
   "metadata": {},
   "outputs": [
    {
     "name": "stdin",
     "output_type": "stream",
     "text": [
      "Enter Temperature in Celcius 26\n"
     ]
    },
    {
     "name": "stdout",
     "output_type": "stream",
     "text": [
      "Hot\n"
     ]
    }
   ],
   "source": [
    "temp=int(input(\"Enter Temperature in Celcius\"))\n",
    "freezing=-5\n",
    "normal=25\n",
    "hot=40\n",
    "if temp <=freezing:\n",
    "    print(\"Freeing\")\n",
    "elif temp>=freezing and temp<=normal:\n",
    "    print(\"Normal\")\n",
    "else:\n",
    "    print(\"Hot\")"
   ]
  },
  {
   "cell_type": "code",
   "execution_count": null,
   "id": "d3a460f7-5400-4e6e-b68d-c9a0c77ade59",
   "metadata": {},
   "outputs": [],
   "source": []
  }
 ],
 "metadata": {
  "kernelspec": {
   "display_name": "Python 3 (ipykernel)",
   "language": "python",
   "name": "python3"
  },
  "language_info": {
   "codemirror_mode": {
    "name": "ipython",
    "version": 3
   },
   "file_extension": ".py",
   "mimetype": "text/x-python",
   "name": "python",
   "nbconvert_exporter": "python",
   "pygments_lexer": "ipython3",
   "version": "3.11.7"
  }
 },
 "nbformat": 4,
 "nbformat_minor": 5
}
