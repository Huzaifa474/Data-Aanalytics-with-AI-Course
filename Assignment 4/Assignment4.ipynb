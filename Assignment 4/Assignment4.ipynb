{
 "cells": [
  {
   "cell_type": "markdown",
   "id": "6ee14194-5892-4633-89db-1b71401c611a",
   "metadata": {},
   "source": [
    "# Question 1"
   ]
  },
  {
   "cell_type": "code",
   "execution_count": 14,
   "id": "8df08e99-2f8a-4329-8561-3c5ba18169b2",
   "metadata": {},
   "outputs": [],
   "source": [
    "#Q1. my_tuple = ( (1, 2, 3), [4, 5, 6], ('apple', 'banana', 'cherry'), [7, 8, 9] ) \n",
    "#Print all elements from my_tuple on a new line (using for loop) \n",
    "# Create a new tuple by concatenating the first and last elements of my_tuple"
   ]
  },
  {
   "cell_type": "code",
   "execution_count": 15,
   "id": "0034fc1d-36da-4c2e-b4a8-dc827cb4d0e9",
   "metadata": {},
   "outputs": [
    {
     "name": "stdout",
     "output_type": "stream",
     "text": [
      "(1, 2, 3)\n",
      "[4, 5, 6]\n",
      "('apple', 'banana', 'cherry')\n",
      "[7, 8, 9]\n",
      "(1, 2, 3, 7, 8, 9)\n"
     ]
    }
   ],
   "source": [
    "my_tuple = ( (1, 2, 3), [4, 5, 6], ('apple', 'banana', 'cherry'), [7, 8, 9] ) \n",
    "#print all element from my_tuple\n",
    "for i in my_tuple:\n",
    "    print(i)\n",
    "#concatinating first and last element of my_tuple\n",
    "new_tuple=my_tuple[0]+tuple(my_tuple[-1])\n",
    "print(new_tuple)"
   ]
  },
  {
   "cell_type": "markdown",
   "id": "1c0f59f4-6f5a-4bd1-ac4a-86ef62508940",
   "metadata": {},
   "source": [
    "# Question 2"
   ]
  },
  {
   "cell_type": "code",
   "execution_count": 1,
   "id": "8e3acbc7-ba7e-4cdd-8c4c-7a5542946d26",
   "metadata": {},
   "outputs": [],
   "source": [
    "# Q2. inventory = { \"The Great Gatsby\": {\"price\": 10.99, \"quantity\": 5}, \"Rich dad poor dad\": {\"price\":\n",
    "# 8.99, \"quantity\": 8}, \"Harry Potter\": {\"price\": 12.50, \"quantity\": 2}, } \n",
    "#• Add a new book in inventory using method and get all book titles using method\n",
    "# • Remove a book if it's out of stock"
   ]
  },
  {
   "cell_type": "code",
   "execution_count": 4,
   "id": "ea581a70-caf2-47dc-9760-df5522d2d9ac",
   "metadata": {},
   "outputs": [
    {
     "name": "stdout",
     "output_type": "stream",
     "text": [
      "The Great Gatsby\n",
      "Rich dad poor dad\n",
      "Harry Potter\n",
      "Smarter Way to Learn Python\n",
      "Deleted Book: Smarter Way to Learn Python:{'price': 15.99, 'quantity': 0}\n"
     ]
    }
   ],
   "source": [
    "inventory = { \n",
    "    \"The Great Gatsby\": {\"price\": 10.99, \"quantity\": 5}, \n",
    "    \"Rich dad poor dad\": {\"price\":8.99, \"quantity\": 8}, \n",
    "    \"Harry Potter\": {\"price\": 12.50, \"quantity\": 2}, \n",
    "} \n",
    "#adding new book in the inventory \n",
    "new_book=inventory.update({\"Smarter Way to Learn Python\":{\"price\":15.99,\"quantity\":0}})\n",
    "#get all the title using methods\n",
    "for i in inventory.keys():\n",
    "    print(i)\n",
    "#remove a book if's out of stock\n",
    "book_to_del=[]\n",
    "for key,value in inventory.items():\n",
    "    if value[\"quantity\"]==0:\n",
    "        book_to_del.append(key)\n",
    "for i in book_to_del:\n",
    "    deletedbook=inventory.pop(i)\n",
    "    print(f\"Deleted Book: {i}:{deletedbook}\")"
   ]
  },
  {
   "cell_type": "markdown",
   "id": "3986cd8e-3714-4cc7-a7f4-7a44eab3124e",
   "metadata": {},
   "source": [
    "# Question 3"
   ]
  },
  {
   "cell_type": "code",
   "execution_count": 5,
   "id": "7887173c-d549-427c-8d0a-e81ed2c3219b",
   "metadata": {},
   "outputs": [],
   "source": [
    "# Q3. An ecommerce store stores information about its products in a nested dictionary. The outer\n",
    "# dictionary uses product IDs as keys, and the inner dictionary stores product details like name,\n",
    "# category, price, and stock quantity.\n",
    "# products = { 101: {\"name\": \"Laptop\", \"category\": \"Electronics\", \"price\": 1200, \"stock\": 50}, 102:\n",
    "# {\"name\": \"Shirt\", \"category\": \"Apparel\", \"price\": 25, \"stock\": 200}, 103: {\"name\": \"Coffee Maker\",\n",
    "# \"category\": \"Home Appliances\", \"price\": 80, \"stock\": 30} }\n",
    "# • Increase the stock of the \"Shirt\" product (add 50 more units) \n",
    "# • Add a new product (e.g., \"Smartphone\")"
   ]
  },
  {
   "cell_type": "code",
   "execution_count": 33,
   "id": "9e415c80-bda1-4b62-82cf-c61e0b570190",
   "metadata": {},
   "outputs": [
    {
     "name": "stdout",
     "output_type": "stream",
     "text": [
      "{'name': 'Shirt', 'category': 'Apparel', 'price': 25, 'stock': 250}\n",
      "{101: {'name': 'Laptop', 'category': 'Electronics', 'price': 1200, 'stock': 50}, 102: {'name': 'Shirt', 'category': 'Apparel', 'price': 25, 'stock': 250}, 103: {'name': 'Coffee Maker', 'category': 'Home Appliances', 'price': 80, 'stock': 30}, 104: {'name': 'Smart Phone', 'category': 'Electronics', 'price': 25000, 'stock': 100}}\n"
     ]
    }
   ],
   "source": [
    "products = { \n",
    "    101: {\"name\": \"Laptop\", \"category\": \"Electronics\", \"price\": 1200, \"stock\": 50}, \n",
    "    102: {\"name\": \"Shirt\", \"category\": \"Apparel\", \"price\": 25, \"stock\": 200}, \n",
    "    103: {\"name\": \"Coffee Maker\", \"category\": \"Home Appliances\", \"price\": 80, \"stock\": 30} \n",
    "}\n",
    "#Increase the stock of shirt product \n",
    "products[102][\"stock\"]+=50\n",
    "print(products[102])\n",
    "# Add a new product (e.g., \"Smartphone\")\n",
    "products.update({104:{\"name\": \"Smart Phone\", \"category\": \"Electronics\", \"price\": 25000, \"stock\": 100}})\n",
    "print(products)"
   ]
  },
  {
   "cell_type": "markdown",
   "id": "2e07e522-8d00-419a-a781-71d4f57f4ac9",
   "metadata": {},
   "source": [
    "# Question 4"
   ]
  },
  {
   "cell_type": "code",
   "execution_count": 34,
   "id": "bb1a7608-db57-4c50-a941-3b7d3dd81048",
   "metadata": {},
   "outputs": [],
   "source": [
    "# Q4. You are given a list that contains some duplicate items. Remove the duplicates by converting the\n",
    "# list to a set.\n",
    "# shopping_list = [\"apple\", \"banana\", \"apple\", \"orange\", \"banana\", \"grape\"]"
   ]
  },
  {
   "cell_type": "code",
   "execution_count": 37,
   "id": "59b0449b-3a01-45ca-8aac-193644e3c1ea",
   "metadata": {},
   "outputs": [
    {
     "name": "stdout",
     "output_type": "stream",
     "text": [
      "SHOPPING LIST WITHOUT DUPLICATES:{'banana', 'apple', 'orange', 'grape'}\n"
     ]
    }
   ],
   "source": [
    "shopping_list = [\"apple\", \"banana\", \"apple\", \"orange\", \"banana\", \"grape\"]\n",
    "shopping_list=set(shopping_list)\n",
    "print(f\"SHOPPING LIST WITHOUT DUPLICATES:{shopping_list}\")"
   ]
  },
  {
   "cell_type": "markdown",
   "id": "8ca5e204-86e8-4baa-87ea-1d70bf8051db",
   "metadata": {},
   "source": [
    "# Question 5"
   ]
  },
  {
   "cell_type": "code",
   "execution_count": 38,
   "id": "6620561d-4618-4608-9a99-332d6b34cbcc",
   "metadata": {},
   "outputs": [],
   "source": [
    "# Q5. You are managing a list of students enrolled in two different courses. You need to perform\n",
    "# various set operations to understand the student enrollment. Task: Create two sets: one for students\n",
    "# in \"Course A\" and one for students in \"Course B\". Find the students who are in \"Course A\" but not in\n",
    "# \"Course B\" (difference). Find students who are only in one of the two courses (symmetric\n",
    "# difference). course_a = {\"John\", \"Alice\", \"Bob\", \"David\"} course_b = {\"Alice\", \"Eve\", \"Charlie\",\n",
    "# \"David\"} \n",
    "# • Find students who are in Course A but not in Course B (difference) \n",
    "# • Find students who are only in one of the two courses (symmetric difference)"
   ]
  },
  {
   "cell_type": "code",
   "execution_count": 42,
   "id": "0156d864-dc04-4672-b522-7287c1e48898",
   "metadata": {},
   "outputs": [
    {
     "name": "stdout",
     "output_type": "stream",
     "text": [
      "STUDENTS IN COURSE A BUT NOT IN COURSE B{'Bob', 'John'}\n",
      "STUDENTS WHO ARE ONLY IN ONE OF THE TWO COURSES{'Charlie', 'Bob', 'John', 'Eve'}\n"
     ]
    }
   ],
   "source": [
    "course_a = {\"John\", \"Alice\", \"Bob\", \"David\"} \n",
    "course_b = {\"Alice\", \"Eve\", \"Charlie\",\"David\"} \n",
    "# • Find students who are in Course A but not in Course B (difference) \n",
    "print(f\"STUDENTS IN COURSE A BUT NOT IN COURSE B{course_a.difference(course_b)}\") \n",
    "# • Find students who are only in one of the two courses (symmetric difference)\n",
    "print(f\"STUDENTS WHO ARE ONLY IN ONE OF THE TWO COURSES{course_a.symmetric_difference(course_b)}\") "
   ]
  },
  {
   "cell_type": "markdown",
   "id": "21fc0738-61b7-4dfa-af52-1e51bc621dae",
   "metadata": {},
   "source": [
    "# Question 6"
   ]
  },
  {
   "cell_type": "code",
   "execution_count": 43,
   "id": "1dadf9bd-0497-40e3-8774-c3f3b7a4fca0",
   "metadata": {},
   "outputs": [],
   "source": [
    "# Q6. Write a Python program that calculates the sum of all even numbers between 1 and 50\n",
    "# (inclusive) using a for loop.\n",
    "# Hint\n",
    "# 1. Initialize a variable to hold the sum (e.g., sum_of_evens).\n",
    "# 2. Use a for loop to iterate through all numbers from 1 to 50.\n",
    "# 3. Inside the loop, check if the number is even.\n",
    "# 4. If the number is even, add it to sum_of_evens.\n",
    "# 5. After the loop finishes, print the total sum of all even numbers between 1 and 50."
   ]
  },
  {
   "cell_type": "code",
   "execution_count": 47,
   "id": "4bd60249-c394-4183-ad1e-3d4adc894fae",
   "metadata": {},
   "outputs": [
    {
     "name": "stdout",
     "output_type": "stream",
     "text": [
      "SUM OF ALL EVEN NO FROM 1 TO 50: 650\n"
     ]
    }
   ],
   "source": [
    "sum=0\n",
    "for i in range(1,51):\n",
    "    if i%2==0:\n",
    "        sum+=i\n",
    "print(f\"SUM OF ALL EVEN NO FROM 1 TO 50: {sum}\")"
   ]
  },
  {
   "cell_type": "markdown",
   "id": "58883ed9-144a-4ba3-a677-157c06012643",
   "metadata": {},
   "source": [
    "# Question 7"
   ]
  },
  {
   "cell_type": "code",
   "execution_count": 48,
   "id": "9213591a-1d39-4690-96f6-08567d8f0f94",
   "metadata": {},
   "outputs": [],
   "source": [
    "# Q7. Write a Python program that prints the multiplication table for a given number (between 1 and\n",
    "# 10) using a for loop.\n",
    "# Hint:\n",
    "# 1. Ask the user for a number between 1 and 10 .\n",
    "# 2. Use a for loop to iterate through the numbers from 1 to 10.\n",
    "# 3. For each iteration, calculate the product of the given number and the current number in the\n",
    "# loop.\n",
    "# 4. Print the result in a readable format (e.g., 5 x 1 = 5).\n",
    "# 5. Ensure the program works correctly for any number between 1 and 10"
   ]
  },
  {
   "cell_type": "code",
   "execution_count": 54,
   "id": "55daa079-0e5e-4031-9ee8-67afe0c2f016",
   "metadata": {},
   "outputs": [
    {
     "name": "stdin",
     "output_type": "stream",
     "text": [
      "Enter Number (between 1 and 10) 8\n"
     ]
    },
    {
     "name": "stdout",
     "output_type": "stream",
     "text": [
      "8 X 1 = 8\n",
      "8 X 2 = 16\n",
      "8 X 3 = 24\n",
      "8 X 4 = 32\n",
      "8 X 5 = 40\n",
      "8 X 6 = 48\n",
      "8 X 7 = 56\n",
      "8 X 8 = 64\n",
      "8 X 9 = 72\n",
      "8 X 10 = 80\n"
     ]
    }
   ],
   "source": [
    "no=int(input(\"Enter Number (between 1 and 10)\"))\n",
    "if no<1 or no>10:\n",
    "    print(\"INVALID NUMBER ENTERED\")\n",
    "else: \n",
    "    for i in range(1,11):\n",
    "        print(f\"{no} X {i} = {no*i}\")"
   ]
  },
  {
   "cell_type": "markdown",
   "id": "55e5b9a0-3e68-43b9-96e8-ebaac141c8dd",
   "metadata": {},
   "source": [
    "# Question 8"
   ]
  },
  {
   "cell_type": "code",
   "execution_count": 55,
   "id": "7f5d6711-f403-4b66-9bc7-5c2bc9c3db23",
   "metadata": {},
   "outputs": [],
   "source": [
    "# Q8. Power of a Number\n",
    "# Write a Python program that takes a number and prints the powers of the number (starting from 1\n",
    "# to 10) using a while loop. For example, if the user inputs 3, the output should be:\n",
    "# 3^1 = 3\n",
    "# 3^2 = 9\n",
    "# 3^3 = 27\n",
    "# ... up to 3^10."
   ]
  },
  {
   "cell_type": "code",
   "execution_count": 57,
   "id": "ec922d98-625b-452c-90fc-3e1e39f9d36e",
   "metadata": {},
   "outputs": [
    {
     "name": "stdin",
     "output_type": "stream",
     "text": [
      "Enter Number 2\n"
     ]
    },
    {
     "name": "stdout",
     "output_type": "stream",
     "text": [
      "POWER OF 2^1=2\n",
      "POWER OF 2^2=4\n",
      "POWER OF 2^3=8\n",
      "POWER OF 2^4=16\n",
      "POWER OF 2^5=32\n",
      "POWER OF 2^6=64\n",
      "POWER OF 2^7=128\n",
      "POWER OF 2^8=256\n",
      "POWER OF 2^9=512\n",
      "POWER OF 2^10=1024\n"
     ]
    }
   ],
   "source": [
    "no=int(input(\"Enter Number\"))\n",
    "i=1\n",
    "while i!=11:\n",
    "    print(f\"POWER OF {no}^{i}={no**i}\")\n",
    "    i+=1"
   ]
  },
  {
   "cell_type": "markdown",
   "id": "e4bedc34-dd84-424f-b95d-360f198a014c",
   "metadata": {},
   "source": [
    "# Question 9"
   ]
  },
  {
   "cell_type": "code",
   "execution_count": 58,
   "id": "e08955c2-c8a8-4871-8c93-d56d5768b4b8",
   "metadata": {},
   "outputs": [],
   "source": [
    "# Q9. Problem Statement: Write a Python program that takes an integer input from the user and\n",
    "# counts down from that number to 0. The program should display the current number at each step\n",
    "# until it reaches 0, at which point it should print a message indicating the countdown is finishedOutput Hint:\n",
    "# Enter a number to start the countdown: 3\n",
    "#  3\n",
    "#  2\n",
    "#  1\n",
    "#  0\n",
    "#  Countdown finished!"
   ]
  },
  {
   "cell_type": "code",
   "execution_count": 60,
   "id": "ad2928ef-3762-4d4f-81a4-17427aeb2d12",
   "metadata": {},
   "outputs": [
    {
     "name": "stdin",
     "output_type": "stream",
     "text": [
      "Enter Number for count down 5\n"
     ]
    },
    {
     "name": "stdout",
     "output_type": "stream",
     "text": [
      "5\n",
      "4\n",
      "3\n",
      "2\n",
      "1\n",
      "0\n",
      "Countdown finished!\n"
     ]
    }
   ],
   "source": [
    "no=int(input(\"Enter Number for count down\"))\n",
    "for i in range(no,-1,-1):\n",
    "    print(i)\n",
    "print(\"Countdown finished!\")"
   ]
  },
  {
   "cell_type": "markdown",
   "id": "f5019291-3a6b-46ee-b1bb-05f4f0d978e4",
   "metadata": {},
   "source": [
    "# Question 10"
   ]
  },
  {
   "cell_type": "code",
   "execution_count": 72,
   "id": "0ab1f9de-216f-4ab8-9fcd-be4cd90880ac",
   "metadata": {},
   "outputs": [],
   "source": [
    "# Q10. Write a Python program that takes an integer input n from the user and generates a rightangled triangle pattern of stars (*) with n rows. \n",
    "#The first row should contain 1 star, the second row 2\n",
    "# stars, the third row 3 stars, and so on until the nth row.\n",
    "# Ensure the stars in each row are separated by spaces, and each row starts on a new line.\n",
    "# Pattern: *\n",
    "# **\n",
    "# ***\n",
    "# ****\n",
    "# *****"
   ]
  },
  {
   "cell_type": "code",
   "execution_count": 70,
   "id": "9b30dcdf-01ac-47d2-a032-89bd21219bad",
   "metadata": {},
   "outputs": [
    {
     "name": "stdin",
     "output_type": "stream",
     "text": [
      "Enter Number for Pattern 6\n"
     ]
    },
    {
     "name": "stdout",
     "output_type": "stream",
     "text": [
      "*\n",
      "**\n",
      "***\n",
      "****\n",
      "*****\n",
      "******\n"
     ]
    }
   ],
   "source": [
    "no=int(input(\"Enter Number for Pattern\"))\n",
    "for i in range(1,no+1):\n",
    "    print(\"*\"*i)"
   ]
  },
  {
   "cell_type": "code",
   "execution_count": null,
   "id": "9346ed35-6ff9-4e11-939f-50468800cff3",
   "metadata": {},
   "outputs": [],
   "source": []
  }
 ],
 "metadata": {
  "kernelspec": {
   "display_name": "Python 3 (ipykernel)",
   "language": "python",
   "name": "python3"
  },
  "language_info": {
   "codemirror_mode": {
    "name": "ipython",
    "version": 3
   },
   "file_extension": ".py",
   "mimetype": "text/x-python",
   "name": "python",
   "nbconvert_exporter": "python",
   "pygments_lexer": "ipython3",
   "version": "3.11.7"
  }
 },
 "nbformat": 4,
 "nbformat_minor": 5
}
