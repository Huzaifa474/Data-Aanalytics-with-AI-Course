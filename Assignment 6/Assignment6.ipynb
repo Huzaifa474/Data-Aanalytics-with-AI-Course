{
 "cells": [
  {
   "cell_type": "markdown",
   "id": "d5648eea-ca47-4393-8660-67b157eb44e1",
   "metadata": {},
   "source": [
    "# Question 1\r\n"
   ]
  },
  {
   "cell_type": "code",
   "execution_count": null,
   "id": "e5e7d8dc-1df3-4195-87ac-5f574c9915be",
   "metadata": {},
   "outputs": [],
   "source": [
    "# Question 1:\n",
    "# In a transportation system, we have two classes:\n",
    "# ElectricVehicle: A class that has a method charge() to charge the vehicle .\n",
    "# GasolineVehicle: A class that has a method fuel_up() to refuel the vehicle.\n",
    "# Create a class HybridCar that inherits from both ElectricVehicle and GasolineVehicle. The HybridCar class should have a method drive() \n",
    "#that prints a message showing the car is being driven. Instantiate an object of class HybridCar and demonstrate the usage of charge(), fuel_up(),\n",
    "#and drive().\n",
    "# Expected Outcut:\n",
    "# Charging the electric vehicle.\n",
    "# Filling up the gasoline tank.\n",
    "# Driving the hybrid car."
   ]
  },
  {
   "cell_type": "code",
   "execution_count": 4,
   "id": "7337018d-e210-43c6-80ca-ad4a4e4efd6b",
   "metadata": {},
   "outputs": [
    {
     "name": "stdout",
     "output_type": "stream",
     "text": [
      "Charging the Electric Vehicle\n",
      "Filling up  the Gasoline Tank\n",
      "driving the hybrid car\n"
     ]
    }
   ],
   "source": [
    "class ElectricVehicle:\n",
    "    def charge(self):\n",
    "        return \"Charging the Electric Vehicle\"\n",
    "        \n",
    "class GasolineVehicle:\n",
    "    def fuel_up(self):\n",
    "        return \"Filling up  the Gasoline Tank\"\n",
    "\n",
    "class HybridCar(ElectricVehicle,GasolineVehicle):\n",
    "    def drive(self):\n",
    "        return \"driving the hybrid car\"\n",
    "        \n",
    "#Creating Objects\n",
    "HybridCar1=HybridCar()\n",
    "print(HybridCar1.charge())\n",
    "print(HybridCar1.fuel_up())\n",
    "print(HybridCar1.drive())\n"
   ]
  },
  {
   "cell_type": "markdown",
   "id": "289e678c-9a8b-4692-8f51-080092c1000c",
   "metadata": {},
   "source": [
    "# Question 2"
   ]
  },
  {
   "cell_type": "code",
   "execution_count": 5,
   "id": "777f935e-1ec4-4f24-8bcf-0ab73e30f208",
   "metadata": {},
   "outputs": [],
   "source": [
    "# Question 2:\n",
    "# Create a class Animal with a method make_sound(), which prints \"Animal makes a sound\". Then, create two subclasses:\n",
    "# Lion: Override the make_sound() method to print \"Roar\".\n",
    "# Cat: Override the make_sound() method to print \"Meow\".\n",
    "# Demonstrate polymorphism by calling make_sound() on instances of Lion and Cat."
   ]
  },
  {
   "cell_type": "code",
   "execution_count": 8,
   "id": "c5db53f0-9f54-4279-89ac-3f55de333a07",
   "metadata": {},
   "outputs": [
    {
     "name": "stdout",
     "output_type": "stream",
     "text": [
      "Roar\n",
      "Meow\n"
     ]
    }
   ],
   "source": [
    "class Animal:\n",
    "    def make_sound(self):\n",
    "        print(\"Animal Make Sound\")\n",
    "class Loin(Animal):\n",
    "    def make_sound(self):\n",
    "        print(\"Roar\")\n",
    "class Cat(Animal):\n",
    "    def make_sound(self):\n",
    "        print(\"Meow\")\n",
    "        \n",
    "loin=Loin()\n",
    "cat=Cat()\n",
    "loin.make_sound()\n",
    "cat.make_sound()"
   ]
  },
  {
   "cell_type": "markdown",
   "id": "a19c8f40-b03b-47b5-9d03-49e271692e95",
   "metadata": {},
   "source": [
    "# Question 3"
   ]
  },
  {
   "cell_type": "code",
   "execution_count": 9,
   "id": "0bdddc8b-2160-4327-a35b-f06e1ccf71f5",
   "metadata": {},
   "outputs": [],
   "source": [
    "# Question 3:\n",
    "# Create an abstract class SmartHomeDevice with two abstract methods:\n",
    "# turn_on() (to turn the device on)\n",
    "# turn_off() (to turn the device off)\n",
    "# Then, create a Light class that inherits from SmartHomeDevice. Implement the methods turn_on() and turn_off() for a light device. \n",
    "# The turn_on() method should print \"Light is ON\", and the turn_off() method should print \"Light is OFF\".\n",
    "# Write a Python program to control the light device in a smart home.\n",
    "# Expected Output:\n",
    "# Turning on the light...\n",
    "# Light is ON\n",
    "# Turning off the light...\n",
    "# Light is OFF"
   ]
  },
  {
   "cell_type": "code",
   "execution_count": 2,
   "id": "925fad0c-de3b-4d23-b6b1-6c86929f2846",
   "metadata": {},
   "outputs": [
    {
     "name": "stdout",
     "output_type": "stream",
     "text": [
      "Light is Turning On\n",
      "Light is On\n",
      "Light is Turning Off\n",
      "Light is off\n"
     ]
    }
   ],
   "source": [
    "class SmartHomeDevice:\n",
    "    def __init__(self):\n",
    "        self.start=False\n",
    "    def turn_on(self):\n",
    "        self.start=True\n",
    "        print(\"Light is Turning On\")\n",
    "    def turn_off(self):\n",
    "        self.start=False\n",
    "        print(\"Light is Turning Off\")\n",
    "class Light(SmartHomeDevice):\n",
    "    def turn_on(self):\n",
    "        super().turn_on()\n",
    "        print(\"Light is On\")\n",
    "    def turn_off(self):\n",
    "        super().turn_off()\n",
    "        print(\"Light is off\")\n",
    "        \n",
    "smartlight=Light()\n",
    "smartlight.turn_on()\n",
    "smartlight.turn_off()"
   ]
  },
  {
   "cell_type": "markdown",
   "id": "cda019ab-d0c5-4acf-b741-6ccc9bb728f0",
   "metadata": {},
   "source": [
    "# Question 4"
   ]
  },
  {
   "cell_type": "code",
   "execution_count": 11,
   "id": "bca913f7-82d4-41b9-9508-85bbc30e1766",
   "metadata": {},
   "outputs": [],
   "source": [
    "# Question 4:\n",
    "# Create a class Greeting with a method greet() that can handle different numbers of arguments.\n",
    "# If no argument is passed, it should print \"Hello!\".\n",
    "# If one argument (a name) is passed, it should print \"Hello, !\".\n",
    "# If two arguments (a name and a greeting) are passed, it should print the greeting with the name (e.g., \"Good morning, !\").\n",
    "# Simulate method overloading using default arguments or variable-length arguments, and demonstrate the polymorphic behavior by calling greet() \n",
    "# with different numbers of arguments.\n",
    "# Expected Output:\n",
    "# Hello!\n",
    "# Hello, John!\n",
    "# Good morning, John!"
   ]
  },
  {
   "cell_type": "code",
   "execution_count": 9,
   "id": "8ce0a47a-5e41-48ae-a683-8597622f0060",
   "metadata": {},
   "outputs": [
    {
     "name": "stdout",
     "output_type": "stream",
     "text": [
      "Hello\n",
      "Hello John\n",
      "Good Morning,John \n"
     ]
    }
   ],
   "source": [
    "class Greeting:\n",
    "    def greet(self,*args):\n",
    "        if len(args)==0:\n",
    "            print(\"Hello\")\n",
    "        elif len(args)==2:\n",
    "            print(f\"{args[0]},{args[1]} \")\n",
    "        elif len(args)==1:\n",
    "            print(f\"Hello {args[0]}\")\n",
    "        else:\n",
    "            print(\"Invalid No of Argements Passed\")\n",
    "\n",
    "        \n",
    "g1=Greeting()\n",
    "g1.greet()\n",
    "g1.greet(\"John\")\n",
    "g1.greet(\"Good Morning\",\"John\")"
   ]
  },
  {
   "cell_type": "markdown",
   "id": "4909b703-5722-4877-8e99-35451376725c",
   "metadata": {},
   "source": [
    "# Question 5"
   ]
  },
  {
   "cell_type": "code",
   "execution_count": 10,
   "id": "2f1f16c2-3ecc-4ee9-8153-00f471e3d4d1",
   "metadata": {},
   "outputs": [],
   "source": [
    "# Create a class CarRental to manage the rental of cars.\n",
    "# The class should have private attributes for the car's name, price per day, and the number of rental days.\n",
    "# Create a method to calculate the total rental cost and a method to set the rental days.\n",
    "# Use getter and setter methods for modifying and accessing the car's information.\n",
    "# Demonstrate encapsulation by creating an object of CarRental and calculating the total rental cost.\n",
    "# Expected Output:\n",
    "# Car Name: Toyota Camry\n",
    "# Price Per Day: $50\n",
    "# Rental Days: 5\n",
    "# Total Rental Cost: $250"
   ]
  },
  {
   "cell_type": "code",
   "execution_count": 19,
   "id": "218f1165-66e5-48fd-918f-c8d255d30e7f",
   "metadata": {},
   "outputs": [
    {
     "name": "stdout",
     "output_type": "stream",
     "text": [
      "Car Name:Toyota\n",
      "Price Per Day: 50$\n",
      "Rental Days:5\n",
      "Total Cost:250\n"
     ]
    }
   ],
   "source": [
    "class CarRental:\n",
    "    def __init__(self,carname,price_per_day,rental_days):\n",
    "        self.__carname=carname\n",
    "        self.__price_per_day=price_per_day\n",
    "        self.__rental_days=rental_days\n",
    "\n",
    "    #getters\n",
    "    def getCarname(self):\n",
    "        return self.__carname\n",
    "    def get_price(self):\n",
    "        return self.__price_per_day\n",
    "    def get_rentalDays(self):\n",
    "        return self.__rentaldays\n",
    "\n",
    "    #setters\n",
    "    def setCarname(self,c_name):\n",
    "        self.__carname=c_name\n",
    "    def set_price(self,rent):\n",
    "        self.__price_per_day=rent\n",
    "    def set_rentalDays(self,days):\n",
    "        self.__rental_days=days\n",
    "        \n",
    "    #Method to CalculateCost\n",
    "    def calculate_Cost(self):\n",
    "        print(f\"Car Name:{self.__carname}\")\n",
    "        print(f\"Price Per Day: {self.__price_per_day}$\")\n",
    "        print(f\"Rental Days:{self.__rental_days}\")\n",
    "        print(f\"Total Cost:{self.__price_per_day*self.__rental_days}\")\n",
    "\n",
    "rentalCar=CarRental(\"Toyota\",50,5)\n",
    "rentalCar.calculate_Cost()"
   ]
  },
  {
   "cell_type": "code",
   "execution_count": null,
   "id": "fdf50b81-58a1-4498-9254-8dd7e39204a0",
   "metadata": {},
   "outputs": [],
   "source": []
  }
 ],
 "metadata": {
  "kernelspec": {
   "display_name": "Python 3 (ipykernel)",
   "language": "python",
   "name": "python3"
  },
  "language_info": {
   "codemirror_mode": {
    "name": "ipython",
    "version": 3
   },
   "file_extension": ".py",
   "mimetype": "text/x-python",
   "name": "python",
   "nbconvert_exporter": "python",
   "pygments_lexer": "ipython3",
   "version": "3.11.7"
  }
 },
 "nbformat": 4,
 "nbformat_minor": 5
}
