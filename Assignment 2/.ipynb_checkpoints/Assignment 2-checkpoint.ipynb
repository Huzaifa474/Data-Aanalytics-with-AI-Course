{
 "cells": [
  {
   "cell_type": "markdown",
   "id": "3be519cc-5e8d-4de8-965c-4f15bbc14b64",
   "metadata": {},
   "source": [
    "# Question 1"
   ]
  },
  {
   "cell_type": "code",
   "execution_count": 2,
   "id": "7649524b-72fb-4328-9bc9-aa39142c8c85",
   "metadata": {},
   "outputs": [],
   "source": [
    "# Question 1: Age Group Classification\n",
    "# Write a Python program that takes the age of a person as input and classifies them into one of the\n",
    "# following age groups:\n",
    "# Childt; if the age is between 0 and 12 (inclusive).\n",
    "# Teenager; if the age is between 13 and 19 (inclusive).\n",
    "# Adult; if the age is between 20 and 64 (inclusive).\n",
    "# Senior; if the age is 65 or older."
   ]
  },
  {
   "cell_type": "code",
   "execution_count": 8,
   "id": "e11fc89e-b9bb-4720-8a14-e48ba6ae506a",
   "metadata": {},
   "outputs": [
    {
     "name": "stdin",
     "output_type": "stream",
     "text": [
      "Enter Your Age 65\n"
     ]
    },
    {
     "name": "stdout",
     "output_type": "stream",
     "text": [
      "SENIOR\n"
     ]
    }
   ],
   "source": [
    "age=int(input(\"Enter Your Age\"))\n",
    "if age>0 and age<=12:\n",
    "    print(\"CHILD\")\n",
    "elif age>12 and age<=19:\n",
    "    print(\"TEENAGER\")\n",
    "elif age>19 and age<=64:\n",
    "    print(\"ADULT\")\n",
    "else:\n",
    "    print(\"SENIOR\")"
   ]
  },
  {
   "cell_type": "markdown",
   "id": "e2572ca6-8895-4751-aad9-6f258e04b3d2",
   "metadata": {},
   "source": [
    "# Question 2"
   ]
  },
  {
   "cell_type": "code",
   "execution_count": 9,
   "id": "0e356ebb-d471-447b-8181-e05161d21f48",
   "metadata": {},
   "outputs": [],
   "source": [
    "# Question 2: Checking for Eligibility for Discount\n",
    "# Write a Python program that determines if a customer is eligible for a discount. The program should\n",
    "# take the customer&#39;s membership status and purchase amount as input and check the following\n",
    "# conditions:\n",
    "# The customer is a premium member and the purchase amount is greater than or equal to 1000.\n",
    "# The customer is a regular member and the purchase amount is greater than or equal to 2000.\n",
    "# If the customer meets either of the above conditions, print Eligible for discount otherwise print\n",
    "# Not eligible for discount."
   ]
  },
  {
   "cell_type": "code",
   "execution_count": 14,
   "id": "b8cc87e1-d58f-4eab-9544-78bea683eb66",
   "metadata": {},
   "outputs": [
    {
     "name": "stdin",
     "output_type": "stream",
     "text": [
      "Enter Membership status ('P' FOR PREMIMUM AND 'R' FOR REGULAR) r\n",
      "Enter Purchase Amount 1900\n"
     ]
    },
    {
     "name": "stdout",
     "output_type": "stream",
     "text": [
      "YOU ARE NOT ELIGIBLE FOR DISCOUNT\n"
     ]
    }
   ],
   "source": [
    "membership_status=input(\"Enter Membership status ('P' FOR PREMIMUM AND 'R' FOR REGULAR)\").upper()\n",
    "purchase_amount=int(input(\"Enter Purchase Amount\"))\n",
    "\n",
    "if (membership_status == \"P\" and purchase_amount>=1000) or (membership_status == \"R\" and  purchase_amount>=2000):\n",
    "    print(\"YOU ARE ELIGILBLE FOR DISCOUNT!\")\n",
    "else:\n",
    "    print(\"YOU ARE NOT ELIGIBLE FOR DISCOUNT\")"
   ]
  },
  {
   "cell_type": "markdown",
   "id": "fc04bd51-4256-414d-a73c-fb205b2f0b19",
   "metadata": {},
   "source": [
    "# Question 3 "
   ]
  },
  {
   "cell_type": "code",
   "execution_count": 1,
   "id": "0c4a1ad7-dd67-45f0-8063-a820de39daa0",
   "metadata": {},
   "outputs": [],
   "source": [
    "# Question 3: Voting Eligibility Check\n",
    "# Write a Python program that checks if a person is eligible to vote based on their age and citizenship status. The program should take the following inputs:\n",
    "# Age (an integer).\n",
    "# Citizenship status (a string: either \"citizen\" or \"non-citizen\").\n",
    "# The eligibility conditions are:\n",
    "# The person must be at least 18 years old and a \"citizen\" to be eligible to vote.\n",
    "# Alternatively, the person can be at least 16 years old and a \"citizen\" of a special region where voting is allowed from age 16.\n",
    "# If the person meets either of the conditions, print \"Eligible to vote\", otherwise print \"Not eligible to vote\"."
   ]
  },
  {
   "cell_type": "code",
   "execution_count": 7,
   "id": "bff74d79-35ab-4703-8d81-19d8ee83addf",
   "metadata": {},
   "outputs": [
    {
     "name": "stdin",
     "output_type": "stream",
     "text": [
      "Enter Age 17\n",
      "Enter Citizen Ship Status Press \n",
      " 1.'C' for Citizen \n",
      " 2.'NC' for Non Citizen \n",
      " 3.'SC' for Citizen of Special Region C\n"
     ]
    },
    {
     "name": "stdout",
     "output_type": "stream",
     "text": [
      "ELIGIBLE TO VOTE!\n"
     ]
    }
   ],
   "source": [
    "age=int(input(\"Enter Age\"))\n",
    "citizen_status=input(\"Enter Citizen Ship Status Press \\n 1.'C' for Citizen \\n 2.'NC' for Non Citizen \\n 3.'SC' for Citizen of Special Region\").upper()\n",
    "\n",
    "if (age>=18 and citizen_status=='C') or (age>=16 and citizen_status=='C'):\n",
    "    print(\"ELIGIBLE TO VOTE!\")\n",
    "else:\n",
    "    print(\"NOT ELIGIBLE TO VOTE\")"
   ]
  },
  {
   "cell_type": "markdown",
   "id": "9f435b37-526f-43cc-8838-84a1595288a8",
   "metadata": {},
   "source": [
    "# Question 4"
   ]
  },
  {
   "cell_type": "code",
   "execution_count": 8,
   "id": "86689276-2624-4e65-9be9-d4fcf4c8babb",
   "metadata": {},
   "outputs": [],
   "source": [
    "# Question 4: Employee Salary Bonus Eligibility\n",
    "# Write a Python program that determines if an employee is eligible for a salary bonus based on the following conditions:\n",
    "# The employee's performance rating is \"Excellent\" and their years of service are greater than or equal to 5 years.\n",
    "# The employee's performance rating is \"Good\" and their years of service are greater than or equal to 10 years.\n",
    "# The employee's performance rating is \"Satisfactory\" or their years of service are greater than or equal to 15 years.\n",
    "# The employee is not eligible for a bonus if neither of these conditions is met.\n",
    "# The program should print one of the following:\n",
    "# \"Eligible for bonus\" if the employee meets any of the criteria.\n",
    "# \"Not eligible for bonus\" if none of the conditions apply."
   ]
  },
  {
   "cell_type": "code",
   "execution_count": 21,
   "id": "ccc8e3da-361b-45f4-b383-1b4342c142af",
   "metadata": {},
   "outputs": [
    {
     "name": "stdin",
     "output_type": "stream",
     "text": [
      "Enter Employee Performance \n",
      " 1.'E' for Excellent \n",
      " 2.'G' for Good \n",
      " 3.'S' for Satisfactory\n",
      " g\n",
      "Enter Employee Service 12\n"
     ]
    },
    {
     "name": "stdout",
     "output_type": "stream",
     "text": [
      "ELIGIBLE FOR BONUS!\n"
     ]
    }
   ],
   "source": [
    "emp_per=input(\"Enter Employee Performance \\n 1.'E' for Excellent \\n 2.'G' for Good \\n 3.'S' for Satisfactory\\n\").upper()\n",
    "emp_ser=int(input(\"Enter Employee Service\"))\n",
    "\n",
    "if (emp_per==\"E\" and emp_ser>=5) or (emp_per==\"G\" and emp_ser>=10) or (emp_per==\"S\" and emp_ser>=15):\n",
    "    print(\"ELIGIBLE FOR BONUS!\")\n",
    "else:\n",
    "    print(\"NOT ELIGIBLE FOR BONUS\")"
   ]
  },
  {
   "cell_type": "markdown",
   "id": "c1844389-5f7b-4656-afde-c325347e388a",
   "metadata": {},
   "source": [
    "# Question 5"
   ]
  },
  {
   "cell_type": "code",
   "execution_count": 22,
   "id": "b6364834-f2d7-40b0-b6cc-a9f07b647ebb",
   "metadata": {},
   "outputs": [],
   "source": [
    "# Question 5. Write a program that replaces spaces with underscores, counts how many underscores are there, and finds the position of the first underscore.\n",
    "# Use text: \"I'm learning Python programming\"?"
   ]
  },
  {
   "cell_type": "code",
   "execution_count": 28,
   "id": "3775bdb3-f9c5-45ad-bb22-00b69a43a1ed",
   "metadata": {},
   "outputs": [
    {
     "name": "stdout",
     "output_type": "stream",
     "text": [
      "I'm_learning_Python_programming\n",
      "Total Number of underscores  3\n",
      "Position of First underscore 3\n"
     ]
    }
   ],
   "source": [
    "txt=\"I'm learning Python programming\"\n",
    "#replacing spaces with under scores\n",
    "txt=txt.replace(\" \",\"_\")\n",
    "print(txt)\n",
    "#Total Number of Underscores\n",
    "print(\"Total Number of underscores \",txt.count(\"_\"))\n",
    "#position of first underscore\n",
    "print(\"Position of First underscore\",txt.index(\"_\"))"
   ]
  },
  {
   "cell_type": "markdown",
   "id": "b627dd91-6d8f-49a3-9e3b-6fa8b581136f",
   "metadata": {},
   "source": [
    "# Question 6"
   ]
  },
  {
   "cell_type": "code",
   "execution_count": 1,
   "id": "032259c3-ba62-4a0a-b7ed-6f6a9cffd3c7",
   "metadata": {},
   "outputs": [],
   "source": [
    "# Question 6: \n",
    "# Write a Python program that:\n",
    "# Takes a string as input.\n",
    "# Prints all characters of the string except the last 3 using slicing.\n",
    "# Prints every second character of the string using slicing.\n",
    "# Prints the string in reverse using slicing"
   ]
  },
  {
   "cell_type": "code",
   "execution_count": 5,
   "id": "9cf51ad1-c745-4fed-9a8c-d6df7356d637",
   "metadata": {},
   "outputs": [
    {
     "name": "stdin",
     "output_type": "stream",
     "text": [
      "Enter String Python Programming\n"
     ]
    },
    {
     "name": "stdout",
     "output_type": "stream",
     "text": [
      "Original String: Python Programming\n",
      "All Characters Except Last 3: Python Programm\n",
      "Every Second Character of String: Pto rgamn\n",
      "Reverse String : gnimmargorP nohtyP\n"
     ]
    }
   ],
   "source": [
    "txt=input(\"Enter String\")\n",
    "print(\"Original String:\",txt)\n",
    "print(\"All Characters Except Last 3:\",txt[:-3])\n",
    "print(\"Every Second Character of String:\",txt[::2])\n",
    "print(\"Reverse String :\",txt[::-1])"
   ]
  },
  {
   "cell_type": "markdown",
   "id": "10ded480-6e96-4440-b6fe-60c3c4be3ba2",
   "metadata": {},
   "source": [
    "# Question 7"
   ]
  },
  {
   "cell_type": "code",
   "execution_count": 6,
   "id": "e490944c-cdd0-4d58-ae75-67639c9abbd1",
   "metadata": {},
   "outputs": [],
   "source": [
    "# Question 7. \n",
    "#Given a sentence, you need to reverse the order of the words in the sentence while preserving their original capitalization and spaces.\n",
    "# Use text : \"Hello World, We are learning Python\""
   ]
  },
  {
   "cell_type": "code",
   "execution_count": 22,
   "id": "2f37443a-f50c-4dd8-bce5-37cef87de381",
   "metadata": {},
   "outputs": [
    {
     "name": "stdout",
     "output_type": "stream",
     "text": [
      "Original String: Hello World, We are learning Python\n",
      "Reverse Order String Python learning are We World, Hello\n"
     ]
    }
   ],
   "source": [
    "txt=\"Hello World, We are learning Python\"\n",
    "print(\"Original String:\",txt)\n",
    "txt=txt.split()\n",
    "txt.reverse()\n",
    "txt=\" \".join(txt)\n",
    "print(\"Reverse Order String\",txt)"
   ]
  },
  {
   "cell_type": "markdown",
   "id": "b4557fa0-c2b9-4151-a351-ac864a9648a7",
   "metadata": {},
   "source": [
    "# Question 8"
   ]
  },
  {
   "cell_type": "code",
   "execution_count": 19,
   "id": "36e1ef1e-2d16-421c-9c32-7a71cc26d357",
   "metadata": {},
   "outputs": [],
   "source": [
    "# Question 8. You have a product code that follows the format \"SKU-12345-XYZ\". You need to:\n",
    "# Remove the \"SKU-\" and the \"-XYZ\" from the product code. Extract and return the number"
   ]
  },
  {
   "cell_type": "code",
   "execution_count": 30,
   "id": "4b701b5d-cc36-4b9f-bce6-96170e405198",
   "metadata": {},
   "outputs": [
    {
     "name": "stdout",
     "output_type": "stream",
     "text": [
      "12345\n"
     ]
    }
   ],
   "source": [
    "prod_code=\"SKU-12345-XYZ\"\n",
    "prod_code=prod_code.replace(prod_code[0:4],\"\")\n",
    "prod_code=prod_code.replace(prod_code[-4:],\"\")\n",
    "print(int(prod_code))"
   ]
  },
  {
   "cell_type": "markdown",
   "id": "d3eb5d8a-d2eb-4a63-8aa9-68d5bfa9d856",
   "metadata": {},
   "source": [
    "# Question 9"
   ]
  },
  {
   "cell_type": "code",
   "execution_count": 31,
   "id": "5d7d0b94-8eba-4cd9-9471-ba90658042b1",
   "metadata": {},
   "outputs": [],
   "source": [
    "# Question 9. \n",
    "# Write a Python program to check user password has following:Whether the string contains any uppercase characters. Whether the string contains \n",
    "# any lowercase characters. Whether the string contains any spaces. Whether the string contains any special characters \n",
    "# (anything other than letters, digits, and spaces)."
   ]
  },
  {
   "cell_type": "code",
   "execution_count": 11,
   "id": "a81625cf-2695-441c-885d-22e7ad0bd413",
   "metadata": {},
   "outputs": [
    {
     "name": "stdin",
     "output_type": "stream",
     "text": [
      "Enter String ABCD\n"
     ]
    },
    {
     "name": "stdout",
     "output_type": "stream",
     "text": [
      "String Contains Only Alphabats\n",
      "String Contains all Uppercase Alphabets\n"
     ]
    }
   ],
   "source": [
    "txt=input(\"Enter String\")\n",
    "if txt.isalnum()==True and txt.isdecimal()==False and txt.isalpha()==False :\n",
    "    print(\"String Contains Numbers and Alpabets\")\n",
    "elif txt.isalpha()==True:\n",
    "    print(\"String Contains Only Alphabats\")\n",
    "    if txt.islower()==True:\n",
    "        print(\"String Contains all lower case Alphabets\")\n",
    "    elif txt.isupper()==True:\n",
    "        print(\"String Contains all Uppercase Alphabets\")\n",
    "    else:\n",
    "        print(\"String Contains both Upper and Lower Case Alphabets\")\n",
    "elif txt.isdecimal()==True:\n",
    "    print(\"String Contains Only Numbers\")\n",
    "elif txt.isspace()==True:\n",
    "    print(\"String Contain Spaces\")\n",
    "else:\n",
    "    print(\"String Contain Special Characters\")"
   ]
  },
  {
   "cell_type": "markdown",
   "id": "808d1bda-92a5-4708-93a5-82b2ee1ab37d",
   "metadata": {},
   "source": [
    "# Question 10"
   ]
  },
  {
   "cell_type": "code",
   "execution_count": 12,
   "id": "769b2dc5-ccb6-4de3-a638-46d8015cfc08",
   "metadata": {},
   "outputs": [],
   "source": [
    "# Question 10: Find the Longest Word\n",
    "# Write a Python program that finds the longest word in a given string.\n",
    "# Example:\n",
    "# Input: \"I love programming in Python\"\n",
    "# Output: \"programming\""
   ]
  },
  {
   "cell_type": "code",
   "execution_count": 47,
   "id": "ff50c1bb-e841-40d0-97ce-82667ebbced1",
   "metadata": {},
   "outputs": [
    {
     "name": "stdin",
     "output_type": "stream",
     "text": [
      "Enter String I love programming in Python\n"
     ]
    },
    {
     "name": "stdout",
     "output_type": "stream",
     "text": [
      "programming\n"
     ]
    }
   ],
   "source": [
    "txt=input(\"Enter String\")\n",
    "txt=txt.split()\n",
    "longest_word=max(txt,key=len)\n",
    "print(longest_word)"
   ]
  }
 ],
 "metadata": {
  "kernelspec": {
   "display_name": "Python 3 (ipykernel)",
   "language": "python",
   "name": "python3"
  },
  "language_info": {
   "codemirror_mode": {
    "name": "ipython",
    "version": 3
   },
   "file_extension": ".py",
   "mimetype": "text/x-python",
   "name": "python",
   "nbconvert_exporter": "python",
   "pygments_lexer": "ipython3",
   "version": "3.11.7"
  }
 },
 "nbformat": 4,
 "nbformat_minor": 5
}
