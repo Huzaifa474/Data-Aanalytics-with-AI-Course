{
 "cells": [
  {
   "cell_type": "markdown",
   "id": "170d9f80-0bdf-4d32-9736-93e86857cc87",
   "metadata": {},
   "source": [
    "1. Write a Python function called add_numbers that takes two numbers as arguments and returns their sum. Then, test the function by calling it with two numbers of your choice."
   ]
  },
  {
   "cell_type": "code",
   "execution_count": 1,
   "id": "5987911d-85c7-4049-9da0-3cd3d3f22f0d",
   "metadata": {},
   "outputs": [
    {
     "data": {
      "text/plain": [
       "9"
      ]
     },
     "execution_count": 1,
     "metadata": {},
     "output_type": "execute_result"
    }
   ],
   "source": [
    "def add(no1,no2):\n",
    "    return no1+no2\n",
    "#calling function\n",
    "add(3,6)"
   ]
  },
  {
   "cell_type": "markdown",
   "id": "7f9ede6d-db1d-4d2c-ac3c-c4e1a3653c30",
   "metadata": {},
   "source": [
    "2. Write a Python function count_vowels that accepts a string and returns the number of vowels (a, e, i, o, u) in that string.\n",
    "- Example: 'Orange'\n",
    "- Output: 3 vowels\n"
   ]
  },
  {
   "cell_type": "code",
   "execution_count": 4,
   "id": "08ffcdad-fa5c-4f79-9438-7bf7ef12af61",
   "metadata": {},
   "outputs": [
    {
     "data": {
      "text/plain": [
       "'Total Vowels in Data Analytics: 5'"
      ]
     },
     "execution_count": 4,
     "metadata": {},
     "output_type": "execute_result"
    }
   ],
   "source": [
    "def count_Vowels(txt):\n",
    "    vowels=[\"a\",\"e\",\"i\",\"o\",\"u\"]\n",
    "    count=0\n",
    "    for i in txt.lower():\n",
    "        if i in vowels:\n",
    "            count+=1\n",
    "    return f\"Total Vowels in {txt}: {count}\"\n",
    "count_Vowels(\"Data Analytics\")"
   ]
  },
  {
   "cell_type": "markdown",
   "id": "09ed52aa-b88e-4f30-a017-652d8de535cc",
   "metadata": {},
   "source": [
    "3. Create a Python function called currency_converter() that takes two arguments:\n",
    "\n",
    "- amount: The amount of money to be converted (in USD).\n",
    "- exchange_rate (default is 280): The conversion rate from USD to another currency (e.g., PKR). You can assume the default rate is 1 USD = 280 PKR.\n",
    "\n",
    "The function should return a message showing how much the given amount is worth in the target currency (PKR)."
   ]
  },
  {
   "cell_type": "code",
   "execution_count": 10,
   "id": "3bdc2ce1-40fc-459b-b6f4-fe5017c06946",
   "metadata": {},
   "outputs": [
    {
     "data": {
      "text/plain": [
       "'PKR 3 = $840'"
      ]
     },
     "execution_count": 10,
     "metadata": {},
     "output_type": "execute_result"
    }
   ],
   "source": [
    "def currency_Converter(amount,exchangerate):\n",
    "    return f\"PKR {amount} = ${amount*exchangerate}\"\n",
    "currency_Converter(3,280)"
   ]
  },
  {
   "cell_type": "markdown",
   "id": "80ee5bc1-0c50-4341-9c04-12c9706e3e2d",
   "metadata": {},
   "source": [
    "4. Write a Python function display_student_info that accepts the following details about a student:\n",
    "\n",
    "- name (Keyword argument): The name of the student.\n",
    "- age (Keyword argument): The age of the student.\n",
    "- grade (Keyword argument): The grade the student is in.\n",
    "- school (Keyword argument): The name of the school the student attends."
   ]
  },
  {
   "cell_type": "code",
   "execution_count": 12,
   "id": "c6823450-c140-4e8f-8407-800286b9646f",
   "metadata": {},
   "outputs": [
    {
     "name": "stdout",
     "output_type": "stream",
     "text": [
      "Name:Usman\n",
      "Age:12\n",
      "Grade:7\n",
      "School:ABC School\n"
     ]
    }
   ],
   "source": [
    "def display_Studentinfo(name,age,grade,school):\n",
    "    print(f\"Name:{name}\")\n",
    "    print(f\"Age:{age}\")\n",
    "    print(f\"Grade:{grade}\")\n",
    "    print(f\"School:{school}\")\n",
    "\n",
    "display_Studentinfo(age=12,grade=7,school=\"ABC School\",name=\"Usman\")"
   ]
  },
  {
   "cell_type": "markdown",
   "id": "0fe94f0f-cf3b-4122-8c18-204e74890214",
   "metadata": {},
   "source": [
    "5. Write a Python function calculate_price that accepts two positional arguments:\n",
    "\n",
    "- price: The price of a single item.\n",
    "- quantity: The number of items bought.\n",
    "- The function should return the total price by multiplying price and quantity."
   ]
  },
  {
   "cell_type": "code",
   "execution_count": 13,
   "id": "02bbd197-5665-4592-b239-5785402197ae",
   "metadata": {},
   "outputs": [
    {
     "data": {
      "text/plain": [
       "5200"
      ]
     },
     "execution_count": 13,
     "metadata": {},
     "output_type": "execute_result"
    }
   ],
   "source": [
    "def calculate_Price(price,quantity):\n",
    "    return price*quantity\n",
    "\n",
    "calculate_Price(1300,4)"
   ]
  },
  {
   "cell_type": "markdown",
   "id": "f296207b-8c2c-4fed-a439-55c62a4fad48",
   "metadata": {},
   "source": [
    "6. Write a Python function display_prices that takes a product name and an arbitrary number of keyword arguments representing product prices. The function should display each product and its price.\n",
    "\n",
    "- Product: Laptop\n",
    "- Amazon: $800\n",
    "\n",
    "- eBay: $750\n",
    "  \n",
    "- Walmart: $780\n"
   ]
  },
  {
   "cell_type": "code",
   "execution_count": 5,
   "id": "23bcb2e3-a11e-4e0b-96a6-98152d7a0594",
   "metadata": {},
   "outputs": [
    {
     "name": "stdout",
     "output_type": "stream",
     "text": [
      "Laptop:$2000\n",
      "Amazon:$8000\n",
      "eBay:$750\n",
      "Walmart:$780\n"
     ]
    }
   ],
   "source": [
    "def display_prices(**kwargs):\n",
    "    for prod_name,prod_prices in kwargs.items():\n",
    "        print(f\"{prod_name}:{prod_prices}\")\n",
    "display_prices(Laptop=\"$2000\",Amazon=\"$8000\",eBay=\"$750\",Walmart=\"$780\")"
   ]
  },
  {
   "cell_type": "markdown",
   "id": "5f1c1d64-058b-4ace-ab15-ac1debdce1a0",
   "metadata": {},
   "source": [
    "7. Write a Python function find_max that takes any number of numerical arguments and returns the maximum number."
   ]
  },
  {
   "cell_type": "code",
   "execution_count": 14,
   "id": "222c4faa-177b-4b25-ae8d-e5799429724c",
   "metadata": {},
   "outputs": [
    {
     "data": {
      "text/plain": [
       "802"
      ]
     },
     "execution_count": 14,
     "metadata": {},
     "output_type": "execute_result"
    }
   ],
   "source": [
    "def find_Maxno(*args):\n",
    "    maxno=-float('inf')\n",
    "    for i in args:\n",
    "        if i>maxno:\n",
    "            maxno=i\n",
    "    return maxno\n",
    "find_Maxno(3,4,7,9,10,802,44,100,9)"
   ]
  },
  {
   "cell_type": "markdown",
   "id": "133f4fd5-0f8d-4595-88c2-0cd7371c775b",
   "metadata": {},
   "source": [
    "8. Write a Python function display_info that takes:\n",
    "\n",
    "- Positional arguments for the name and age of a person.\n",
    "- Keyword arguments for other personal details like address, phone number, and email.\n",
    "\n",
    "Example Output:\n",
    "\n",
    "- Name: Alice\n",
    "- Age: 30\n",
    "- Other Details:\n",
    "    - address: 123 Main St\n",
    "    - phone: 123-456-7890\n",
    "    - email: alice@example.com\n"
   ]
  },
  {
   "cell_type": "code",
   "execution_count": 18,
   "id": "53142517-f6b1-4c10-a09d-57a99dd047fc",
   "metadata": {
    "scrolled": true
   },
   "outputs": [
    {
     "name": "stdout",
     "output_type": "stream",
     "text": [
      "Name:Alice\n",
      "Age:30\n",
      "Other Details:\n",
      "address:123 Main St\n",
      "phone:123-456-789\n",
      "email:Alice@example.com\n"
     ]
    }
   ],
   "source": [
    "def displayinfo(name,age,**kwargs):\n",
    "    print(f\"Name:{name}\")\n",
    "    print(f\"Age:{age}\")\n",
    "    print(f\"Other Details:\")\n",
    "    for key,val in kwargs.items():\n",
    "        print(f\"{key}:{val}\")\n",
    "\n",
    "displayinfo(\"Alice\",30,address=\"123 Main St\",phone=\"123-456-789\",email=\"Alice@example.com\")    "
   ]
  },
  {
   "cell_type": "markdown",
   "id": "ba32f7dd-8038-4e6d-a785-0244a500313c",
   "metadata": {},
   "source": [
    "9. Write a Python function calculate_rectangle that accepts the length and width of a rectangle as arguments. Inside this function, create two nested functions:\n",
    "\n",
    "- calculate_area: This function should calculate the area of the rectangle.\n",
    "- calculate_perimeter: This function should calculate the perimeter of the rectangle.\n",
    "- The main function should return both the area and the perimeter of the rectangle."
   ]
  },
  {
   "cell_type": "code",
   "execution_count": 28,
   "id": "dbc5e003-d91d-4146-9ce6-c485f3043d2b",
   "metadata": {},
   "outputs": [
    {
     "name": "stdout",
     "output_type": "stream",
     "text": [
      "Area : 45 \n",
      "Perimter:28\n"
     ]
    }
   ],
   "source": [
    "def calculate_rectangle(length,width):\n",
    "    #Nested Function\n",
    "    def calculate_area():\n",
    "        area=length*width\n",
    "        return area\n",
    "    #Nested Function\n",
    "    def calculate_parimeter():\n",
    "        perimeter=2*(length+width)\n",
    "        return perimeter\n",
    "    return calculate_area(),calculate_parimeter()\n",
    "#Function Calling\n",
    "Area,Parameter=calculate_rectangle(5,9)\n",
    "print(f\"Area : {Area} \\nPerimter:{Parameter}\")"
   ]
  },
  {
   "cell_type": "markdown",
   "id": "ff60a2fd-df19-4d11-ae27-27443c000e5a",
   "metadata": {},
   "source": [
    "Q 10.\n",
    "\n",
    "products = [\n",
    "    {\"name\": \"Laptop\", \"price\": 1200, \"in_stock\": True, \"discount\": 0.1},\n",
    "    {\"name\": \"Smartphone\", \"price\": 800, \"in_stock\": False, \"discount\": 0.05},\n",
    "    {\"name\": \"Headphones\", \"price\": 150, \"in_stock\": True, \"discount\": 0.2},\n",
    "    {\"name\": \"Smartwatch\", \"price\": 300, \"in_stock\": True, \"discount\": 0},\n",
    "    {\"name\": \"Keyboard\", \"price\": 100, \"in_stock\": True, \"discount\": 0.15}\n",
    "]\n",
    "\n",
    "- Get names of in-stock products:\n",
    "\n",
    "  *Use list comprehension to generate a list of names for the products that are in stock.\n",
    "                                            \n",
    "- Calculate final prices for in-stock products after discount:\n",
    "\n",
    "    *For products that have a discount, calculate the final price by applying the discount.\n",
    "\n",
    "  \n",
    "    *For products with no discount, keep the original price.\n",
    "                                            \n",
    "- Generate a list of tuples with the product name and its final price.\n",
    "\n",
    "Example Output:\n",
    "\n",
    "- In-stock product names: ['Laptop', 'Headphones', 'Smartwatch', 'Keyboard']\n",
    "- Discounted prices: [('Laptop', 1080.0), ('Headphones', 120.0), ('Smartwatch', 300), ('Keyboard', 85.0)]\n"
   ]
  },
  {
   "cell_type": "code",
   "execution_count": 49,
   "id": "3d48e96f-5291-46ab-a1b3-cd42dcbbc519",
   "metadata": {},
   "outputs": [
    {
     "name": "stdout",
     "output_type": "stream",
     "text": [
      "['Laptop', 'Headphones', 'Smartwatch', 'Keyboard']\n",
      "[('Laptop', 1080.0), ('Smartphone', 760.0), ('Headphones', 120.0), ('Keyboard', 85.0)]\n"
     ]
    }
   ],
   "source": [
    "products = [ {\"name\": \"Laptop\", \"price\": 1200, \"in_stock\": True, \"discount\": 0.1}, \n",
    "            {\"name\": \"Smartphone\", \"price\": 800, \"in_stock\": False, \"discount\": 0.05}, \n",
    "            {\"name\": \"Headphones\", \"price\": 150, \"in_stock\": True, \"discount\": 0.2}, \n",
    "            {\"name\": \"Smartwatch\", \"price\": 300, \"in_stock\": True, \"discount\": 0}, \n",
    "            {\"name\": \"Keyboard\", \"price\": 100, \"in_stock\": True, \"discount\": 0.15} ]\n",
    "\n",
    "#List Comprehension for Instock Products\n",
    "InStock_Items=[i[\"name\"] for i in products if i[\"in_stock\"]==True]\n",
    "print(InStock_Items)\n",
    "\n",
    "#Adding Final_Price to discounted producted and adding them into list of tuple\n",
    "discounted_list=[]\n",
    "for i in products:\n",
    "    if i[\"discount\"]>0:\n",
    "        i.update({\"Final_Price\":i[\"price\"]-(i[\"discount\"]*i[\"price\"])})\n",
    "        items=(i[\"name\"],i[\"Final_Price\"])\n",
    "        discounted_list.append(items)\n",
    "print(discounted_list)"
   ]
  },
  {
   "cell_type": "code",
   "execution_count": null,
   "id": "258c9536-f80f-479a-a01d-92936f9d3a3f",
   "metadata": {},
   "outputs": [],
   "source": []
  }
 ],
 "metadata": {
  "kernelspec": {
   "display_name": "Python 3 (ipykernel)",
   "language": "python",
   "name": "python3"
  },
  "language_info": {
   "codemirror_mode": {
    "name": "ipython",
    "version": 3
   },
   "file_extension": ".py",
   "mimetype": "text/x-python",
   "name": "python",
   "nbconvert_exporter": "python",
   "pygments_lexer": "ipython3",
   "version": "3.11.7"
  }
 },
 "nbformat": 4,
 "nbformat_minor": 5
}
